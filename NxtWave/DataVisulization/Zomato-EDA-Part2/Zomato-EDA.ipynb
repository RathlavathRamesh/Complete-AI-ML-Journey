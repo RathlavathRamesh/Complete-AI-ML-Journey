{
  "cells": [
    {
      "cell_type": "code",
      "execution_count": null,
      "id": "05b2ca0f-a12d-4da5-a068-b3715f2b6e6a",
      "metadata": {
        "id": "05b2ca0f-a12d-4da5-a068-b3715f2b6e6a"
      },
      "outputs": [],
      "source": [
        "import numpy as np\n",
        "import pandas as pd"
      ]
    },
    {
      "cell_type": "code",
      "execution_count": null,
      "id": "e0e16bbf-5701-4f23-8f2e-9111c31be8cf",
      "metadata": {
        "id": "e0e16bbf-5701-4f23-8f2e-9111c31be8cf",
        "outputId": "2eacd093-4c5f-459f-f930-c7a9cf108d40"
      },
      "outputs": [
        {
          "name": "stderr",
          "output_type": "stream",
          "text": [
            "<>:2: SyntaxWarning: invalid escape sequence '\\W'\n",
            "<>:2: SyntaxWarning: invalid escape sequence '\\W'\n",
            "C:\\Users\\webin\\AppData\\Local\\Temp\\ipykernel_15196\\3283645541.py:2: SyntaxWarning: invalid escape sequence '\\W'\n",
            "  data = pd.read_csv(\"D:\\Webinar Recordings\\Rushikesh-DSML\\Code Files\\Zomata EDA\\dataset\\zomato.csv\")\n"
          ]
        },
        {
          "data": {
            "text/html": [
              "<div>\n",
              "<style scoped>\n",
              "    .dataframe tbody tr th:only-of-type {\n",
              "        vertical-align: middle;\n",
              "    }\n",
              "\n",
              "    .dataframe tbody tr th {\n",
              "        vertical-align: top;\n",
              "    }\n",
              "\n",
              "    .dataframe thead th {\n",
              "        text-align: right;\n",
              "    }\n",
              "</style>\n",
              "<table border=\"1\" class=\"dataframe\">\n",
              "  <thead>\n",
              "    <tr style=\"text-align: right;\">\n",
              "      <th></th>\n",
              "      <th>url</th>\n",
              "      <th>address</th>\n",
              "      <th>name</th>\n",
              "      <th>online_order</th>\n",
              "      <th>book_table</th>\n",
              "      <th>rate</th>\n",
              "      <th>votes</th>\n",
              "      <th>phone</th>\n",
              "      <th>location</th>\n",
              "      <th>rest_type</th>\n",
              "      <th>dish_liked</th>\n",
              "      <th>cuisines</th>\n",
              "      <th>approx_cost(for two people)</th>\n",
              "      <th>reviews_list</th>\n",
              "      <th>menu_item</th>\n",
              "      <th>listed_in(type)</th>\n",
              "      <th>listed_in(city)</th>\n",
              "    </tr>\n",
              "  </thead>\n",
              "  <tbody>\n",
              "    <tr>\n",
              "      <th>0</th>\n",
              "      <td>https://www.zomato.com/bangalore/jalsa-banasha...</td>\n",
              "      <td>942, 21st Main Road, 2nd Stage, Banashankari, ...</td>\n",
              "      <td>Jalsa</td>\n",
              "      <td>Yes</td>\n",
              "      <td>Yes</td>\n",
              "      <td>4.1/5</td>\n",
              "      <td>775</td>\n",
              "      <td>080 42297555\\r\\n+91 9743772233</td>\n",
              "      <td>Banashankari</td>\n",
              "      <td>Casual Dining</td>\n",
              "      <td>Pasta, Lunch Buffet, Masala Papad, Paneer Laja...</td>\n",
              "      <td>North Indian, Mughlai, Chinese</td>\n",
              "      <td>800</td>\n",
              "      <td>[('Rated 4.0', 'RATED\\n  A beautiful place to ...</td>\n",
              "      <td>[]</td>\n",
              "      <td>Buffet</td>\n",
              "      <td>Banashankari</td>\n",
              "    </tr>\n",
              "    <tr>\n",
              "      <th>1</th>\n",
              "      <td>https://www.zomato.com/bangalore/spice-elephan...</td>\n",
              "      <td>2nd Floor, 80 Feet Road, Near Big Bazaar, 6th ...</td>\n",
              "      <td>Spice Elephant</td>\n",
              "      <td>Yes</td>\n",
              "      <td>No</td>\n",
              "      <td>4.1/5</td>\n",
              "      <td>787</td>\n",
              "      <td>080 41714161</td>\n",
              "      <td>Banashankari</td>\n",
              "      <td>Casual Dining</td>\n",
              "      <td>Momos, Lunch Buffet, Chocolate Nirvana, Thai G...</td>\n",
              "      <td>Chinese, North Indian, Thai</td>\n",
              "      <td>800</td>\n",
              "      <td>[('Rated 4.0', 'RATED\\n  Had been here for din...</td>\n",
              "      <td>[]</td>\n",
              "      <td>Buffet</td>\n",
              "      <td>Banashankari</td>\n",
              "    </tr>\n",
              "    <tr>\n",
              "      <th>2</th>\n",
              "      <td>https://www.zomato.com/SanchurroBangalore?cont...</td>\n",
              "      <td>1112, Next to KIMS Medical College, 17th Cross...</td>\n",
              "      <td>San Churro Cafe</td>\n",
              "      <td>Yes</td>\n",
              "      <td>No</td>\n",
              "      <td>3.8/5</td>\n",
              "      <td>918</td>\n",
              "      <td>+91 9663487993</td>\n",
              "      <td>Banashankari</td>\n",
              "      <td>Cafe, Casual Dining</td>\n",
              "      <td>Churros, Cannelloni, Minestrone Soup, Hot Choc...</td>\n",
              "      <td>Cafe, Mexican, Italian</td>\n",
              "      <td>800</td>\n",
              "      <td>[('Rated 3.0', \"RATED\\n  Ambience is not that ...</td>\n",
              "      <td>[]</td>\n",
              "      <td>Buffet</td>\n",
              "      <td>Banashankari</td>\n",
              "    </tr>\n",
              "    <tr>\n",
              "      <th>3</th>\n",
              "      <td>https://www.zomato.com/bangalore/addhuri-udupi...</td>\n",
              "      <td>1st Floor, Annakuteera, 3rd Stage, Banashankar...</td>\n",
              "      <td>Addhuri Udupi Bhojana</td>\n",
              "      <td>No</td>\n",
              "      <td>No</td>\n",
              "      <td>3.7/5</td>\n",
              "      <td>88</td>\n",
              "      <td>+91 9620009302</td>\n",
              "      <td>Banashankari</td>\n",
              "      <td>Quick Bites</td>\n",
              "      <td>Masala Dosa</td>\n",
              "      <td>South Indian, North Indian</td>\n",
              "      <td>300</td>\n",
              "      <td>[('Rated 4.0', \"RATED\\n  Great food and proper...</td>\n",
              "      <td>[]</td>\n",
              "      <td>Buffet</td>\n",
              "      <td>Banashankari</td>\n",
              "    </tr>\n",
              "    <tr>\n",
              "      <th>4</th>\n",
              "      <td>https://www.zomato.com/bangalore/grand-village...</td>\n",
              "      <td>10, 3rd Floor, Lakshmi Associates, Gandhi Baza...</td>\n",
              "      <td>Grand Village</td>\n",
              "      <td>No</td>\n",
              "      <td>No</td>\n",
              "      <td>3.8/5</td>\n",
              "      <td>166</td>\n",
              "      <td>+91 8026612447\\r\\n+91 9901210005</td>\n",
              "      <td>Basavanagudi</td>\n",
              "      <td>Casual Dining</td>\n",
              "      <td>Panipuri, Gol Gappe</td>\n",
              "      <td>North Indian, Rajasthani</td>\n",
              "      <td>600</td>\n",
              "      <td>[('Rated 4.0', 'RATED\\n  Very good restaurant ...</td>\n",
              "      <td>[]</td>\n",
              "      <td>Buffet</td>\n",
              "      <td>Banashankari</td>\n",
              "    </tr>\n",
              "  </tbody>\n",
              "</table>\n",
              "</div>"
            ],
            "text/plain": [
              "                                                 url  \\\n",
              "0  https://www.zomato.com/bangalore/jalsa-banasha...   \n",
              "1  https://www.zomato.com/bangalore/spice-elephan...   \n",
              "2  https://www.zomato.com/SanchurroBangalore?cont...   \n",
              "3  https://www.zomato.com/bangalore/addhuri-udupi...   \n",
              "4  https://www.zomato.com/bangalore/grand-village...   \n",
              "\n",
              "                                             address                   name  \\\n",
              "0  942, 21st Main Road, 2nd Stage, Banashankari, ...                  Jalsa   \n",
              "1  2nd Floor, 80 Feet Road, Near Big Bazaar, 6th ...         Spice Elephant   \n",
              "2  1112, Next to KIMS Medical College, 17th Cross...        San Churro Cafe   \n",
              "3  1st Floor, Annakuteera, 3rd Stage, Banashankar...  Addhuri Udupi Bhojana   \n",
              "4  10, 3rd Floor, Lakshmi Associates, Gandhi Baza...          Grand Village   \n",
              "\n",
              "  online_order book_table   rate  votes                             phone  \\\n",
              "0          Yes        Yes  4.1/5    775    080 42297555\\r\\n+91 9743772233   \n",
              "1          Yes         No  4.1/5    787                      080 41714161   \n",
              "2          Yes         No  3.8/5    918                    +91 9663487993   \n",
              "3           No         No  3.7/5     88                    +91 9620009302   \n",
              "4           No         No  3.8/5    166  +91 8026612447\\r\\n+91 9901210005   \n",
              "\n",
              "       location            rest_type  \\\n",
              "0  Banashankari        Casual Dining   \n",
              "1  Banashankari        Casual Dining   \n",
              "2  Banashankari  Cafe, Casual Dining   \n",
              "3  Banashankari          Quick Bites   \n",
              "4  Basavanagudi        Casual Dining   \n",
              "\n",
              "                                          dish_liked  \\\n",
              "0  Pasta, Lunch Buffet, Masala Papad, Paneer Laja...   \n",
              "1  Momos, Lunch Buffet, Chocolate Nirvana, Thai G...   \n",
              "2  Churros, Cannelloni, Minestrone Soup, Hot Choc...   \n",
              "3                                        Masala Dosa   \n",
              "4                                Panipuri, Gol Gappe   \n",
              "\n",
              "                         cuisines approx_cost(for two people)  \\\n",
              "0  North Indian, Mughlai, Chinese                         800   \n",
              "1     Chinese, North Indian, Thai                         800   \n",
              "2          Cafe, Mexican, Italian                         800   \n",
              "3      South Indian, North Indian                         300   \n",
              "4        North Indian, Rajasthani                         600   \n",
              "\n",
              "                                        reviews_list menu_item  \\\n",
              "0  [('Rated 4.0', 'RATED\\n  A beautiful place to ...        []   \n",
              "1  [('Rated 4.0', 'RATED\\n  Had been here for din...        []   \n",
              "2  [('Rated 3.0', \"RATED\\n  Ambience is not that ...        []   \n",
              "3  [('Rated 4.0', \"RATED\\n  Great food and proper...        []   \n",
              "4  [('Rated 4.0', 'RATED\\n  Very good restaurant ...        []   \n",
              "\n",
              "  listed_in(type) listed_in(city)  \n",
              "0          Buffet    Banashankari  \n",
              "1          Buffet    Banashankari  \n",
              "2          Buffet    Banashankari  \n",
              "3          Buffet    Banashankari  \n",
              "4          Buffet    Banashankari  "
            ]
          },
          "execution_count": 2,
          "metadata": {},
          "output_type": "execute_result"
        }
      ],
      "source": [
        "# read data\n",
        "data = pd.read_csv(\"D:\\Webinar Recordings\\Rushikesh-DSML\\Code Files\\Zomata EDA\\dataset\\zomato.csv\")\n",
        "data.head()"
      ]
    },
    {
      "cell_type": "code",
      "execution_count": null,
      "id": "38eb1ebb-7a2c-4746-a9be-51b1ceb483d0",
      "metadata": {
        "id": "38eb1ebb-7a2c-4746-a9be-51b1ceb483d0",
        "outputId": "514004bf-c0ad-4899-9dfd-344381052d78"
      },
      "outputs": [
        {
          "name": "stdout",
          "output_type": "stream",
          "text": [
            "<class 'pandas.core.frame.DataFrame'>\n",
            "RangeIndex: 51717 entries, 0 to 51716\n",
            "Data columns (total 17 columns):\n",
            " #   Column                       Non-Null Count  Dtype \n",
            "---  ------                       --------------  ----- \n",
            " 0   url                          51717 non-null  object\n",
            " 1   address                      51717 non-null  object\n",
            " 2   name                         51717 non-null  object\n",
            " 3   online_order                 51717 non-null  object\n",
            " 4   book_table                   51717 non-null  object\n",
            " 5   rate                         43942 non-null  object\n",
            " 6   votes                        51717 non-null  int64 \n",
            " 7   phone                        50509 non-null  object\n",
            " 8   location                     51696 non-null  object\n",
            " 9   rest_type                    51490 non-null  object\n",
            " 10  dish_liked                   23639 non-null  object\n",
            " 11  cuisines                     51672 non-null  object\n",
            " 12  approx_cost(for two people)  51371 non-null  object\n",
            " 13  reviews_list                 51717 non-null  object\n",
            " 14  menu_item                    51717 non-null  object\n",
            " 15  listed_in(type)              51717 non-null  object\n",
            " 16  listed_in(city)              51717 non-null  object\n",
            "dtypes: int64(1), object(16)\n",
            "memory usage: 6.7+ MB\n"
          ]
        }
      ],
      "source": [
        "data.info()"
      ]
    },
    {
      "cell_type": "code",
      "execution_count": null,
      "id": "7dba0144-45cf-45e7-8188-cd770fd9486c",
      "metadata": {
        "id": "7dba0144-45cf-45e7-8188-cd770fd9486c",
        "outputId": "8b0d00fb-1f65-4910-f942-87d9c9be9d21"
      },
      "outputs": [
        {
          "data": {
            "text/plain": [
              "Index(['url', 'address', 'name', 'online_order', 'book_table', 'rate', 'votes',\n",
              "       'phone', 'location', 'rest_type', 'dish_liked', 'cuisines',\n",
              "       'approx_cost(for two people)', 'reviews_list', 'menu_item',\n",
              "       'listed_in(type)', 'listed_in(city)'],\n",
              "      dtype='object')"
            ]
          },
          "execution_count": 4,
          "metadata": {},
          "output_type": "execute_result"
        }
      ],
      "source": [
        "data.columns"
      ]
    },
    {
      "cell_type": "code",
      "execution_count": null,
      "id": "6e909494-74c9-42f3-9231-ea1aa7021ec5",
      "metadata": {
        "id": "6e909494-74c9-42f3-9231-ea1aa7021ec5",
        "outputId": "7629bdc0-192a-467c-899e-796da08ff524"
      },
      "outputs": [
        {
          "data": {
            "text/plain": [
              "(51717, 17)"
            ]
          },
          "execution_count": 5,
          "metadata": {},
          "output_type": "execute_result"
        }
      ],
      "source": [
        "data.shape"
      ]
    },
    {
      "cell_type": "code",
      "execution_count": null,
      "id": "e4d4c51c-9630-4e26-9b39-acf1cbe0337d",
      "metadata": {
        "id": "e4d4c51c-9630-4e26-9b39-acf1cbe0337d",
        "outputId": "6358e09d-dd9e-45a9-e40e-94d65a49d621"
      },
      "outputs": [
        {
          "data": {
            "text/plain": [
              "url                                0\n",
              "address                            0\n",
              "name                               0\n",
              "online_order                       0\n",
              "book_table                         0\n",
              "rate                            7775\n",
              "votes                              0\n",
              "phone                           1208\n",
              "location                          21\n",
              "rest_type                        227\n",
              "dish_liked                     28078\n",
              "cuisines                          45\n",
              "approx_cost(for two people)      346\n",
              "reviews_list                       0\n",
              "menu_item                          0\n",
              "listed_in(type)                    0\n",
              "listed_in(city)                    0\n",
              "dtype: int64"
            ]
          },
          "execution_count": 6,
          "metadata": {},
          "output_type": "execute_result"
        }
      ],
      "source": [
        "data.isna().sum()"
      ]
    },
    {
      "cell_type": "code",
      "execution_count": null,
      "id": "bf7e8cd5-d52c-4b0a-ab10-c76fb1012f3f",
      "metadata": {
        "id": "bf7e8cd5-d52c-4b0a-ab10-c76fb1012f3f"
      },
      "outputs": [],
      "source": [
        "# reomve columns\n",
        "data.drop(['url','address','menu_item','phone','dish_liked'],axis=1,inplace=True)"
      ]
    },
    {
      "cell_type": "code",
      "execution_count": null,
      "id": "61a9b940-945c-4be1-9d8b-36f49bb59da1",
      "metadata": {
        "id": "61a9b940-945c-4be1-9d8b-36f49bb59da1",
        "outputId": "98a36d20-dbba-4cbe-a467-994e35331224"
      },
      "outputs": [
        {
          "data": {
            "text/plain": [
              "(51717, 12)"
            ]
          },
          "execution_count": 8,
          "metadata": {},
          "output_type": "execute_result"
        }
      ],
      "source": [
        "data.shape"
      ]
    },
    {
      "cell_type": "code",
      "execution_count": null,
      "id": "ff12b9f9-e8bf-4657-b7fc-d9e4fe09e198",
      "metadata": {
        "id": "ff12b9f9-e8bf-4657-b7fc-d9e4fe09e198",
        "outputId": "2509e692-089e-4c03-c1b5-2dfa14b5551a"
      },
      "outputs": [
        {
          "data": {
            "text/html": [
              "<div>\n",
              "<style scoped>\n",
              "    .dataframe tbody tr th:only-of-type {\n",
              "        vertical-align: middle;\n",
              "    }\n",
              "\n",
              "    .dataframe tbody tr th {\n",
              "        vertical-align: top;\n",
              "    }\n",
              "\n",
              "    .dataframe thead th {\n",
              "        text-align: right;\n",
              "    }\n",
              "</style>\n",
              "<table border=\"1\" class=\"dataframe\">\n",
              "  <thead>\n",
              "    <tr style=\"text-align: right;\">\n",
              "      <th></th>\n",
              "      <th>name</th>\n",
              "      <th>online_order</th>\n",
              "      <th>book_table</th>\n",
              "      <th>rate</th>\n",
              "      <th>votes</th>\n",
              "      <th>location</th>\n",
              "      <th>rest_type</th>\n",
              "      <th>cuisines</th>\n",
              "      <th>approx_cost(for two people)</th>\n",
              "      <th>reviews_list</th>\n",
              "      <th>listed_in(type)</th>\n",
              "      <th>listed_in(city)</th>\n",
              "    </tr>\n",
              "  </thead>\n",
              "  <tbody>\n",
              "    <tr>\n",
              "      <th>0</th>\n",
              "      <td>Jalsa</td>\n",
              "      <td>Yes</td>\n",
              "      <td>Yes</td>\n",
              "      <td>4.1/5</td>\n",
              "      <td>775</td>\n",
              "      <td>Banashankari</td>\n",
              "      <td>Casual Dining</td>\n",
              "      <td>North Indian, Mughlai, Chinese</td>\n",
              "      <td>800</td>\n",
              "      <td>[('Rated 4.0', 'RATED\\n  A beautiful place to ...</td>\n",
              "      <td>Buffet</td>\n",
              "      <td>Banashankari</td>\n",
              "    </tr>\n",
              "    <tr>\n",
              "      <th>1</th>\n",
              "      <td>Spice Elephant</td>\n",
              "      <td>Yes</td>\n",
              "      <td>No</td>\n",
              "      <td>4.1/5</td>\n",
              "      <td>787</td>\n",
              "      <td>Banashankari</td>\n",
              "      <td>Casual Dining</td>\n",
              "      <td>Chinese, North Indian, Thai</td>\n",
              "      <td>800</td>\n",
              "      <td>[('Rated 4.0', 'RATED\\n  Had been here for din...</td>\n",
              "      <td>Buffet</td>\n",
              "      <td>Banashankari</td>\n",
              "    </tr>\n",
              "  </tbody>\n",
              "</table>\n",
              "</div>"
            ],
            "text/plain": [
              "             name online_order book_table   rate  votes      location  \\\n",
              "0           Jalsa          Yes        Yes  4.1/5    775  Banashankari   \n",
              "1  Spice Elephant          Yes         No  4.1/5    787  Banashankari   \n",
              "\n",
              "       rest_type                        cuisines approx_cost(for two people)  \\\n",
              "0  Casual Dining  North Indian, Mughlai, Chinese                         800   \n",
              "1  Casual Dining     Chinese, North Indian, Thai                         800   \n",
              "\n",
              "                                        reviews_list listed_in(type)  \\\n",
              "0  [('Rated 4.0', 'RATED\\n  A beautiful place to ...          Buffet   \n",
              "1  [('Rated 4.0', 'RATED\\n  Had been here for din...          Buffet   \n",
              "\n",
              "  listed_in(city)  \n",
              "0    Banashankari  \n",
              "1    Banashankari  "
            ]
          },
          "execution_count": 9,
          "metadata": {},
          "output_type": "execute_result"
        }
      ],
      "source": [
        "data.head(2)"
      ]
    },
    {
      "cell_type": "markdown",
      "id": "a75246ec-6cbb-402d-8a0a-cf32cea92d6f",
      "metadata": {
        "id": "a75246ec-6cbb-402d-8a0a-cf32cea92d6f"
      },
      "source": [
        "## Data Cleaning"
      ]
    },
    {
      "cell_type": "code",
      "execution_count": null,
      "id": "ea7478b4-e93a-44b7-9d2f-a95cae6a1153",
      "metadata": {
        "id": "ea7478b4-e93a-44b7-9d2f-a95cae6a1153"
      },
      "outputs": [],
      "source": [
        "# reanme columns\n",
        "data.rename(columns={\"name\":\"restaurent\",\n",
        "                     \"rate\":\"rating\",\n",
        "                     \"cuisines\":\"food_type\",\n",
        "                     \"listed_in(type)\":\"type\",\n",
        "                     \"listed_in(city)\":\"city\",\n",
        "                     \"approx_cost(for two people)\":\"cost\"},inplace=True)"
      ]
    },
    {
      "cell_type": "code",
      "execution_count": null,
      "id": "6db37227-20e4-4aba-95a1-a531382d95e0",
      "metadata": {
        "id": "6db37227-20e4-4aba-95a1-a531382d95e0",
        "outputId": "eb7cac5b-9180-45d7-b19e-1840a1ed2cff"
      },
      "outputs": [
        {
          "data": {
            "text/html": [
              "<div>\n",
              "<style scoped>\n",
              "    .dataframe tbody tr th:only-of-type {\n",
              "        vertical-align: middle;\n",
              "    }\n",
              "\n",
              "    .dataframe tbody tr th {\n",
              "        vertical-align: top;\n",
              "    }\n",
              "\n",
              "    .dataframe thead th {\n",
              "        text-align: right;\n",
              "    }\n",
              "</style>\n",
              "<table border=\"1\" class=\"dataframe\">\n",
              "  <thead>\n",
              "    <tr style=\"text-align: right;\">\n",
              "      <th></th>\n",
              "      <th>restaurent</th>\n",
              "      <th>online_order</th>\n",
              "      <th>book_table</th>\n",
              "      <th>rating</th>\n",
              "      <th>votes</th>\n",
              "      <th>location</th>\n",
              "      <th>rest_type</th>\n",
              "      <th>food_type</th>\n",
              "      <th>cost</th>\n",
              "      <th>reviews_list</th>\n",
              "      <th>type</th>\n",
              "      <th>city</th>\n",
              "    </tr>\n",
              "  </thead>\n",
              "  <tbody>\n",
              "    <tr>\n",
              "      <th>0</th>\n",
              "      <td>Jalsa</td>\n",
              "      <td>Yes</td>\n",
              "      <td>Yes</td>\n",
              "      <td>4.1/5</td>\n",
              "      <td>775</td>\n",
              "      <td>Banashankari</td>\n",
              "      <td>Casual Dining</td>\n",
              "      <td>North Indian, Mughlai, Chinese</td>\n",
              "      <td>800</td>\n",
              "      <td>[('Rated 4.0', 'RATED\\n  A beautiful place to ...</td>\n",
              "      <td>Buffet</td>\n",
              "      <td>Banashankari</td>\n",
              "    </tr>\n",
              "    <tr>\n",
              "      <th>1</th>\n",
              "      <td>Spice Elephant</td>\n",
              "      <td>Yes</td>\n",
              "      <td>No</td>\n",
              "      <td>4.1/5</td>\n",
              "      <td>787</td>\n",
              "      <td>Banashankari</td>\n",
              "      <td>Casual Dining</td>\n",
              "      <td>Chinese, North Indian, Thai</td>\n",
              "      <td>800</td>\n",
              "      <td>[('Rated 4.0', 'RATED\\n  Had been here for din...</td>\n",
              "      <td>Buffet</td>\n",
              "      <td>Banashankari</td>\n",
              "    </tr>\n",
              "    <tr>\n",
              "      <th>2</th>\n",
              "      <td>San Churro Cafe</td>\n",
              "      <td>Yes</td>\n",
              "      <td>No</td>\n",
              "      <td>3.8/5</td>\n",
              "      <td>918</td>\n",
              "      <td>Banashankari</td>\n",
              "      <td>Cafe, Casual Dining</td>\n",
              "      <td>Cafe, Mexican, Italian</td>\n",
              "      <td>800</td>\n",
              "      <td>[('Rated 3.0', \"RATED\\n  Ambience is not that ...</td>\n",
              "      <td>Buffet</td>\n",
              "      <td>Banashankari</td>\n",
              "    </tr>\n",
              "    <tr>\n",
              "      <th>3</th>\n",
              "      <td>Addhuri Udupi Bhojana</td>\n",
              "      <td>No</td>\n",
              "      <td>No</td>\n",
              "      <td>3.7/5</td>\n",
              "      <td>88</td>\n",
              "      <td>Banashankari</td>\n",
              "      <td>Quick Bites</td>\n",
              "      <td>South Indian, North Indian</td>\n",
              "      <td>300</td>\n",
              "      <td>[('Rated 4.0', \"RATED\\n  Great food and proper...</td>\n",
              "      <td>Buffet</td>\n",
              "      <td>Banashankari</td>\n",
              "    </tr>\n",
              "    <tr>\n",
              "      <th>4</th>\n",
              "      <td>Grand Village</td>\n",
              "      <td>No</td>\n",
              "      <td>No</td>\n",
              "      <td>3.8/5</td>\n",
              "      <td>166</td>\n",
              "      <td>Basavanagudi</td>\n",
              "      <td>Casual Dining</td>\n",
              "      <td>North Indian, Rajasthani</td>\n",
              "      <td>600</td>\n",
              "      <td>[('Rated 4.0', 'RATED\\n  Very good restaurant ...</td>\n",
              "      <td>Buffet</td>\n",
              "      <td>Banashankari</td>\n",
              "    </tr>\n",
              "  </tbody>\n",
              "</table>\n",
              "</div>"
            ],
            "text/plain": [
              "              restaurent online_order book_table rating  votes      location  \\\n",
              "0                  Jalsa          Yes        Yes  4.1/5    775  Banashankari   \n",
              "1         Spice Elephant          Yes         No  4.1/5    787  Banashankari   \n",
              "2        San Churro Cafe          Yes         No  3.8/5    918  Banashankari   \n",
              "3  Addhuri Udupi Bhojana           No         No  3.7/5     88  Banashankari   \n",
              "4          Grand Village           No         No  3.8/5    166  Basavanagudi   \n",
              "\n",
              "             rest_type                       food_type cost  \\\n",
              "0        Casual Dining  North Indian, Mughlai, Chinese  800   \n",
              "1        Casual Dining     Chinese, North Indian, Thai  800   \n",
              "2  Cafe, Casual Dining          Cafe, Mexican, Italian  800   \n",
              "3          Quick Bites      South Indian, North Indian  300   \n",
              "4        Casual Dining        North Indian, Rajasthani  600   \n",
              "\n",
              "                                        reviews_list    type          city  \n",
              "0  [('Rated 4.0', 'RATED\\n  A beautiful place to ...  Buffet  Banashankari  \n",
              "1  [('Rated 4.0', 'RATED\\n  Had been here for din...  Buffet  Banashankari  \n",
              "2  [('Rated 3.0', \"RATED\\n  Ambience is not that ...  Buffet  Banashankari  \n",
              "3  [('Rated 4.0', \"RATED\\n  Great food and proper...  Buffet  Banashankari  \n",
              "4  [('Rated 4.0', 'RATED\\n  Very good restaurant ...  Buffet  Banashankari  "
            ]
          },
          "execution_count": 11,
          "metadata": {},
          "output_type": "execute_result"
        }
      ],
      "source": [
        "data.head()"
      ]
    },
    {
      "cell_type": "code",
      "execution_count": null,
      "id": "a1c0c8ce-96cb-4978-a466-b4eaf0ec1354",
      "metadata": {
        "id": "a1c0c8ce-96cb-4978-a466-b4eaf0ec1354",
        "outputId": "375210f6-6474-4f04-f8b1-df6c056985d7"
      },
      "outputs": [
        {
          "data": {
            "text/plain": [
              "8414"
            ]
          },
          "execution_count": 12,
          "metadata": {},
          "output_type": "execute_result"
        }
      ],
      "source": [
        "data.isna().sum().sum()"
      ]
    },
    {
      "cell_type": "code",
      "execution_count": null,
      "id": "afe31080-ac3d-40f2-97d9-4c119fc1a410",
      "metadata": {
        "id": "afe31080-ac3d-40f2-97d9-4c119fc1a410"
      },
      "outputs": [],
      "source": [
        "data.dropna(inplace=True)"
      ]
    },
    {
      "cell_type": "code",
      "execution_count": null,
      "id": "1977a1c0-5986-4baa-bd3c-287857ce6c45",
      "metadata": {
        "id": "1977a1c0-5986-4baa-bd3c-287857ce6c45",
        "outputId": "882a3407-4ab7-4cc0-eb3d-3af4cef99187"
      },
      "outputs": [
        {
          "data": {
            "text/plain": [
              "(43533, 12)"
            ]
          },
          "execution_count": 14,
          "metadata": {},
          "output_type": "execute_result"
        }
      ],
      "source": [
        "data.shape"
      ]
    },
    {
      "cell_type": "code",
      "execution_count": null,
      "id": "0995276c-7fda-43b1-bbf2-0217830b9e4d",
      "metadata": {
        "id": "0995276c-7fda-43b1-bbf2-0217830b9e4d"
      },
      "outputs": [],
      "source": [
        "# clean indivudual columns"
      ]
    },
    {
      "cell_type": "code",
      "execution_count": null,
      "id": "a2c13efb-e11c-492c-aa13-17e92a08d951",
      "metadata": {
        "id": "a2c13efb-e11c-492c-aa13-17e92a08d951",
        "outputId": "24d8f0a9-1c9b-4484-b5ba-6810bf68dd06"
      },
      "outputs": [
        {
          "data": {
            "text/html": [
              "<div>\n",
              "<style scoped>\n",
              "    .dataframe tbody tr th:only-of-type {\n",
              "        vertical-align: middle;\n",
              "    }\n",
              "\n",
              "    .dataframe tbody tr th {\n",
              "        vertical-align: top;\n",
              "    }\n",
              "\n",
              "    .dataframe thead th {\n",
              "        text-align: right;\n",
              "    }\n",
              "</style>\n",
              "<table border=\"1\" class=\"dataframe\">\n",
              "  <thead>\n",
              "    <tr style=\"text-align: right;\">\n",
              "      <th></th>\n",
              "      <th>online_order</th>\n",
              "      <th>book_table</th>\n",
              "      <th>rating</th>\n",
              "      <th>votes</th>\n",
              "      <th>location</th>\n",
              "      <th>rest_type</th>\n",
              "      <th>food_type</th>\n",
              "      <th>cost</th>\n",
              "      <th>reviews_list</th>\n",
              "      <th>type</th>\n",
              "      <th>city</th>\n",
              "    </tr>\n",
              "    <tr>\n",
              "      <th>restaurent</th>\n",
              "      <th></th>\n",
              "      <th></th>\n",
              "      <th></th>\n",
              "      <th></th>\n",
              "      <th></th>\n",
              "      <th></th>\n",
              "      <th></th>\n",
              "      <th></th>\n",
              "      <th></th>\n",
              "      <th></th>\n",
              "      <th></th>\n",
              "    </tr>\n",
              "  </thead>\n",
              "  <tbody>\n",
              "    <tr>\n",
              "      <th>#FeelTheROLL</th>\n",
              "      <td>2</td>\n",
              "      <td>2</td>\n",
              "      <td>2</td>\n",
              "      <td>2</td>\n",
              "      <td>2</td>\n",
              "      <td>2</td>\n",
              "      <td>2</td>\n",
              "      <td>2</td>\n",
              "      <td>2</td>\n",
              "      <td>2</td>\n",
              "      <td>2</td>\n",
              "    </tr>\n",
              "    <tr>\n",
              "      <th>#L-81 Cafe</th>\n",
              "      <td>9</td>\n",
              "      <td>9</td>\n",
              "      <td>9</td>\n",
              "      <td>9</td>\n",
              "      <td>9</td>\n",
              "      <td>9</td>\n",
              "      <td>9</td>\n",
              "      <td>9</td>\n",
              "      <td>9</td>\n",
              "      <td>9</td>\n",
              "      <td>9</td>\n",
              "    </tr>\n",
              "    <tr>\n",
              "      <th>#refuel</th>\n",
              "      <td>3</td>\n",
              "      <td>3</td>\n",
              "      <td>3</td>\n",
              "      <td>3</td>\n",
              "      <td>3</td>\n",
              "      <td>3</td>\n",
              "      <td>3</td>\n",
              "      <td>3</td>\n",
              "      <td>3</td>\n",
              "      <td>3</td>\n",
              "      <td>3</td>\n",
              "    </tr>\n",
              "    <tr>\n",
              "      <th>1000 B.C</th>\n",
              "      <td>6</td>\n",
              "      <td>6</td>\n",
              "      <td>6</td>\n",
              "      <td>6</td>\n",
              "      <td>6</td>\n",
              "      <td>6</td>\n",
              "      <td>6</td>\n",
              "      <td>6</td>\n",
              "      <td>6</td>\n",
              "      <td>6</td>\n",
              "      <td>6</td>\n",
              "    </tr>\n",
              "    <tr>\n",
              "      <th>100ÃÂÃÂÃÂÃÂÃÂÃÂÃÂÃÂ°C</th>\n",
              "      <td>3</td>\n",
              "      <td>3</td>\n",
              "      <td>3</td>\n",
              "      <td>3</td>\n",
              "      <td>3</td>\n",
              "      <td>3</td>\n",
              "      <td>3</td>\n",
              "      <td>3</td>\n",
              "      <td>3</td>\n",
              "      <td>3</td>\n",
              "      <td>3</td>\n",
              "    </tr>\n",
              "    <tr>\n",
              "      <th>...</th>\n",
              "      <td>...</td>\n",
              "      <td>...</td>\n",
              "      <td>...</td>\n",
              "      <td>...</td>\n",
              "      <td>...</td>\n",
              "      <td>...</td>\n",
              "      <td>...</td>\n",
              "      <td>...</td>\n",
              "      <td>...</td>\n",
              "      <td>...</td>\n",
              "      <td>...</td>\n",
              "    </tr>\n",
              "    <tr>\n",
              "      <th>i-Bar - The Park Bangalore</th>\n",
              "      <td>11</td>\n",
              "      <td>11</td>\n",
              "      <td>11</td>\n",
              "      <td>11</td>\n",
              "      <td>11</td>\n",
              "      <td>11</td>\n",
              "      <td>11</td>\n",
              "      <td>11</td>\n",
              "      <td>11</td>\n",
              "      <td>11</td>\n",
              "      <td>11</td>\n",
              "    </tr>\n",
              "    <tr>\n",
              "      <th>iFruit Live Ice Creams</th>\n",
              "      <td>4</td>\n",
              "      <td>4</td>\n",
              "      <td>4</td>\n",
              "      <td>4</td>\n",
              "      <td>4</td>\n",
              "      <td>4</td>\n",
              "      <td>4</td>\n",
              "      <td>4</td>\n",
              "      <td>4</td>\n",
              "      <td>4</td>\n",
              "      <td>4</td>\n",
              "    </tr>\n",
              "    <tr>\n",
              "      <th>iSpice Resto Cafe</th>\n",
              "      <td>7</td>\n",
              "      <td>7</td>\n",
              "      <td>7</td>\n",
              "      <td>7</td>\n",
              "      <td>7</td>\n",
              "      <td>7</td>\n",
              "      <td>7</td>\n",
              "      <td>7</td>\n",
              "      <td>7</td>\n",
              "      <td>7</td>\n",
              "      <td>7</td>\n",
              "    </tr>\n",
              "    <tr>\n",
              "      <th>nu.tree</th>\n",
              "      <td>7</td>\n",
              "      <td>7</td>\n",
              "      <td>7</td>\n",
              "      <td>7</td>\n",
              "      <td>7</td>\n",
              "      <td>7</td>\n",
              "      <td>7</td>\n",
              "      <td>7</td>\n",
              "      <td>7</td>\n",
              "      <td>7</td>\n",
              "      <td>7</td>\n",
              "    </tr>\n",
              "    <tr>\n",
              "      <th>re:cess - Hilton Bangalore Embassy GolfLinks</th>\n",
              "      <td>3</td>\n",
              "      <td>3</td>\n",
              "      <td>3</td>\n",
              "      <td>3</td>\n",
              "      <td>3</td>\n",
              "      <td>3</td>\n",
              "      <td>3</td>\n",
              "      <td>3</td>\n",
              "      <td>3</td>\n",
              "      <td>3</td>\n",
              "      <td>3</td>\n",
              "    </tr>\n",
              "  </tbody>\n",
              "</table>\n",
              "<p>7112 rows × 11 columns</p>\n",
              "</div>"
            ],
            "text/plain": [
              "                                              online_order  book_table  \\\n",
              "restaurent                                                               \n",
              "#FeelTheROLL                                             2           2   \n",
              "#L-81 Cafe                                               9           9   \n",
              "#refuel                                                  3           3   \n",
              "1000 B.C                                                 6           6   \n",
              "100ÃÂÃÂÃÂÃÂÃÂÃÂÃÂÃÂ°C                     3           3   \n",
              "...                                                    ...         ...   \n",
              "i-Bar - The Park Bangalore                              11          11   \n",
              "iFruit Live Ice Creams                                   4           4   \n",
              "iSpice Resto Cafe                                        7           7   \n",
              "nu.tree                                                  7           7   \n",
              "re:cess - Hilton Bangalore Embassy GolfLinks             3           3   \n",
              "\n",
              "                                              rating  votes  location  \\\n",
              "restaurent                                                              \n",
              "#FeelTheROLL                                       2      2         2   \n",
              "#L-81 Cafe                                         9      9         9   \n",
              "#refuel                                            3      3         3   \n",
              "1000 B.C                                           6      6         6   \n",
              "100ÃÂÃÂÃÂÃÂÃÂÃÂÃÂÃÂ°C               3      3         3   \n",
              "...                                              ...    ...       ...   \n",
              "i-Bar - The Park Bangalore                        11     11        11   \n",
              "iFruit Live Ice Creams                             4      4         4   \n",
              "iSpice Resto Cafe                                  7      7         7   \n",
              "nu.tree                                            7      7         7   \n",
              "re:cess - Hilton Bangalore Embassy GolfLinks       3      3         3   \n",
              "\n",
              "                                              rest_type  food_type  cost  \\\n",
              "restaurent                                                                 \n",
              "#FeelTheROLL                                          2          2     2   \n",
              "#L-81 Cafe                                            9          9     9   \n",
              "#refuel                                               3          3     3   \n",
              "1000 B.C                                              6          6     6   \n",
              "100ÃÂÃÂÃÂÃÂÃÂÃÂÃÂÃÂ°C                  3          3     3   \n",
              "...                                                 ...        ...   ...   \n",
              "i-Bar - The Park Bangalore                           11         11    11   \n",
              "iFruit Live Ice Creams                                4          4     4   \n",
              "iSpice Resto Cafe                                     7          7     7   \n",
              "nu.tree                                               7          7     7   \n",
              "re:cess - Hilton Bangalore Embassy GolfLinks          3          3     3   \n",
              "\n",
              "                                              reviews_list  type  city  \n",
              "restaurent                                                              \n",
              "#FeelTheROLL                                             2     2     2  \n",
              "#L-81 Cafe                                               9     9     9  \n",
              "#refuel                                                  3     3     3  \n",
              "1000 B.C                                                 6     6     6  \n",
              "100ÃÂÃÂÃÂÃÂÃÂÃÂÃÂÃÂ°C                     3     3     3  \n",
              "...                                                    ...   ...   ...  \n",
              "i-Bar - The Park Bangalore                              11    11    11  \n",
              "iFruit Live Ice Creams                                   4     4     4  \n",
              "iSpice Resto Cafe                                        7     7     7  \n",
              "nu.tree                                                  7     7     7  \n",
              "re:cess - Hilton Bangalore Embassy GolfLinks             3     3     3  \n",
              "\n",
              "[7112 rows x 11 columns]"
            ]
          },
          "execution_count": 16,
          "metadata": {},
          "output_type": "execute_result"
        }
      ],
      "source": [
        "data.groupby('restaurent').count()"
      ]
    },
    {
      "cell_type": "code",
      "execution_count": null,
      "id": "8cf862af-2b40-46ee-9cd5-3180d9d5e41f",
      "metadata": {
        "id": "8cf862af-2b40-46ee-9cd5-3180d9d5e41f"
      },
      "outputs": [],
      "source": [
        "data['restaurent'] = data['restaurent'].str.replace('[Ãx][^A-Za-z]+','',regex=True)"
      ]
    },
    {
      "cell_type": "code",
      "execution_count": null,
      "id": "3ac15a34-ba40-4dcf-842a-2af729d6aa1a",
      "metadata": {
        "id": "3ac15a34-ba40-4dcf-842a-2af729d6aa1a",
        "outputId": "fb0c2afd-4e0a-44d7-b86c-74f83f03bf14"
      },
      "outputs": [
        {
          "data": {
            "text/html": [
              "<div>\n",
              "<style scoped>\n",
              "    .dataframe tbody tr th:only-of-type {\n",
              "        vertical-align: middle;\n",
              "    }\n",
              "\n",
              "    .dataframe tbody tr th {\n",
              "        vertical-align: top;\n",
              "    }\n",
              "\n",
              "    .dataframe thead th {\n",
              "        text-align: right;\n",
              "    }\n",
              "</style>\n",
              "<table border=\"1\" class=\"dataframe\">\n",
              "  <thead>\n",
              "    <tr style=\"text-align: right;\">\n",
              "      <th></th>\n",
              "      <th>online_order</th>\n",
              "      <th>book_table</th>\n",
              "      <th>rating</th>\n",
              "      <th>votes</th>\n",
              "      <th>location</th>\n",
              "      <th>rest_type</th>\n",
              "      <th>food_type</th>\n",
              "      <th>cost</th>\n",
              "      <th>reviews_list</th>\n",
              "      <th>type</th>\n",
              "      <th>city</th>\n",
              "    </tr>\n",
              "    <tr>\n",
              "      <th>restaurent</th>\n",
              "      <th></th>\n",
              "      <th></th>\n",
              "      <th></th>\n",
              "      <th></th>\n",
              "      <th></th>\n",
              "      <th></th>\n",
              "      <th></th>\n",
              "      <th></th>\n",
              "      <th></th>\n",
              "      <th></th>\n",
              "      <th></th>\n",
              "    </tr>\n",
              "  </thead>\n",
              "  <tbody>\n",
              "    <tr>\n",
              "      <th>#FeelTheROLL</th>\n",
              "      <td>2</td>\n",
              "      <td>2</td>\n",
              "      <td>2</td>\n",
              "      <td>2</td>\n",
              "      <td>2</td>\n",
              "      <td>2</td>\n",
              "      <td>2</td>\n",
              "      <td>2</td>\n",
              "      <td>2</td>\n",
              "      <td>2</td>\n",
              "      <td>2</td>\n",
              "    </tr>\n",
              "    <tr>\n",
              "      <th>#L-81 Cafe</th>\n",
              "      <td>9</td>\n",
              "      <td>9</td>\n",
              "      <td>9</td>\n",
              "      <td>9</td>\n",
              "      <td>9</td>\n",
              "      <td>9</td>\n",
              "      <td>9</td>\n",
              "      <td>9</td>\n",
              "      <td>9</td>\n",
              "      <td>9</td>\n",
              "      <td>9</td>\n",
              "    </tr>\n",
              "    <tr>\n",
              "      <th>#refuel</th>\n",
              "      <td>3</td>\n",
              "      <td>3</td>\n",
              "      <td>3</td>\n",
              "      <td>3</td>\n",
              "      <td>3</td>\n",
              "      <td>3</td>\n",
              "      <td>3</td>\n",
              "      <td>3</td>\n",
              "      <td>3</td>\n",
              "      <td>3</td>\n",
              "      <td>3</td>\n",
              "    </tr>\n",
              "    <tr>\n",
              "      <th>1000 B.C</th>\n",
              "      <td>6</td>\n",
              "      <td>6</td>\n",
              "      <td>6</td>\n",
              "      <td>6</td>\n",
              "      <td>6</td>\n",
              "      <td>6</td>\n",
              "      <td>6</td>\n",
              "      <td>6</td>\n",
              "      <td>6</td>\n",
              "      <td>6</td>\n",
              "      <td>6</td>\n",
              "    </tr>\n",
              "    <tr>\n",
              "      <th>100C</th>\n",
              "      <td>3</td>\n",
              "      <td>3</td>\n",
              "      <td>3</td>\n",
              "      <td>3</td>\n",
              "      <td>3</td>\n",
              "      <td>3</td>\n",
              "      <td>3</td>\n",
              "      <td>3</td>\n",
              "      <td>3</td>\n",
              "      <td>3</td>\n",
              "      <td>3</td>\n",
              "    </tr>\n",
              "    <tr>\n",
              "      <th>...</th>\n",
              "      <td>...</td>\n",
              "      <td>...</td>\n",
              "      <td>...</td>\n",
              "      <td>...</td>\n",
              "      <td>...</td>\n",
              "      <td>...</td>\n",
              "      <td>...</td>\n",
              "      <td>...</td>\n",
              "      <td>...</td>\n",
              "      <td>...</td>\n",
              "      <td>...</td>\n",
              "    </tr>\n",
              "    <tr>\n",
              "      <th>i-Bar - The Park Bangalore</th>\n",
              "      <td>11</td>\n",
              "      <td>11</td>\n",
              "      <td>11</td>\n",
              "      <td>11</td>\n",
              "      <td>11</td>\n",
              "      <td>11</td>\n",
              "      <td>11</td>\n",
              "      <td>11</td>\n",
              "      <td>11</td>\n",
              "      <td>11</td>\n",
              "      <td>11</td>\n",
              "    </tr>\n",
              "    <tr>\n",
              "      <th>iFruit Live Ice Creams</th>\n",
              "      <td>4</td>\n",
              "      <td>4</td>\n",
              "      <td>4</td>\n",
              "      <td>4</td>\n",
              "      <td>4</td>\n",
              "      <td>4</td>\n",
              "      <td>4</td>\n",
              "      <td>4</td>\n",
              "      <td>4</td>\n",
              "      <td>4</td>\n",
              "      <td>4</td>\n",
              "    </tr>\n",
              "    <tr>\n",
              "      <th>iSpice Resto Cafe</th>\n",
              "      <td>7</td>\n",
              "      <td>7</td>\n",
              "      <td>7</td>\n",
              "      <td>7</td>\n",
              "      <td>7</td>\n",
              "      <td>7</td>\n",
              "      <td>7</td>\n",
              "      <td>7</td>\n",
              "      <td>7</td>\n",
              "      <td>7</td>\n",
              "      <td>7</td>\n",
              "    </tr>\n",
              "    <tr>\n",
              "      <th>nu.tree</th>\n",
              "      <td>7</td>\n",
              "      <td>7</td>\n",
              "      <td>7</td>\n",
              "      <td>7</td>\n",
              "      <td>7</td>\n",
              "      <td>7</td>\n",
              "      <td>7</td>\n",
              "      <td>7</td>\n",
              "      <td>7</td>\n",
              "      <td>7</td>\n",
              "      <td>7</td>\n",
              "    </tr>\n",
              "    <tr>\n",
              "      <th>re:cess - Hilton Bangalore Embassy GolfLinks</th>\n",
              "      <td>3</td>\n",
              "      <td>3</td>\n",
              "      <td>3</td>\n",
              "      <td>3</td>\n",
              "      <td>3</td>\n",
              "      <td>3</td>\n",
              "      <td>3</td>\n",
              "      <td>3</td>\n",
              "      <td>3</td>\n",
              "      <td>3</td>\n",
              "      <td>3</td>\n",
              "    </tr>\n",
              "  </tbody>\n",
              "</table>\n",
              "<p>7084 rows × 11 columns</p>\n",
              "</div>"
            ],
            "text/plain": [
              "                                              online_order  book_table  \\\n",
              "restaurent                                                               \n",
              "#FeelTheROLL                                             2           2   \n",
              "#L-81 Cafe                                               9           9   \n",
              "#refuel                                                  3           3   \n",
              "1000 B.C                                                 6           6   \n",
              "100C                                                     3           3   \n",
              "...                                                    ...         ...   \n",
              "i-Bar - The Park Bangalore                              11          11   \n",
              "iFruit Live Ice Creams                                   4           4   \n",
              "iSpice Resto Cafe                                        7           7   \n",
              "nu.tree                                                  7           7   \n",
              "re:cess - Hilton Bangalore Embassy GolfLinks             3           3   \n",
              "\n",
              "                                              rating  votes  location  \\\n",
              "restaurent                                                              \n",
              "#FeelTheROLL                                       2      2         2   \n",
              "#L-81 Cafe                                         9      9         9   \n",
              "#refuel                                            3      3         3   \n",
              "1000 B.C                                           6      6         6   \n",
              "100C                                               3      3         3   \n",
              "...                                              ...    ...       ...   \n",
              "i-Bar - The Park Bangalore                        11     11        11   \n",
              "iFruit Live Ice Creams                             4      4         4   \n",
              "iSpice Resto Cafe                                  7      7         7   \n",
              "nu.tree                                            7      7         7   \n",
              "re:cess - Hilton Bangalore Embassy GolfLinks       3      3         3   \n",
              "\n",
              "                                              rest_type  food_type  cost  \\\n",
              "restaurent                                                                 \n",
              "#FeelTheROLL                                          2          2     2   \n",
              "#L-81 Cafe                                            9          9     9   \n",
              "#refuel                                               3          3     3   \n",
              "1000 B.C                                              6          6     6   \n",
              "100C                                                  3          3     3   \n",
              "...                                                 ...        ...   ...   \n",
              "i-Bar - The Park Bangalore                           11         11    11   \n",
              "iFruit Live Ice Creams                                4          4     4   \n",
              "iSpice Resto Cafe                                     7          7     7   \n",
              "nu.tree                                               7          7     7   \n",
              "re:cess - Hilton Bangalore Embassy GolfLinks          3          3     3   \n",
              "\n",
              "                                              reviews_list  type  city  \n",
              "restaurent                                                              \n",
              "#FeelTheROLL                                             2     2     2  \n",
              "#L-81 Cafe                                               9     9     9  \n",
              "#refuel                                                  3     3     3  \n",
              "1000 B.C                                                 6     6     6  \n",
              "100C                                                     3     3     3  \n",
              "...                                                    ...   ...   ...  \n",
              "i-Bar - The Park Bangalore                              11    11    11  \n",
              "iFruit Live Ice Creams                                   4     4     4  \n",
              "iSpice Resto Cafe                                        7     7     7  \n",
              "nu.tree                                                  7     7     7  \n",
              "re:cess - Hilton Bangalore Embassy GolfLinks             3     3     3  \n",
              "\n",
              "[7084 rows x 11 columns]"
            ]
          },
          "execution_count": 18,
          "metadata": {},
          "output_type": "execute_result"
        }
      ],
      "source": [
        "data.groupby('restaurent').count()"
      ]
    },
    {
      "cell_type": "code",
      "execution_count": null,
      "id": "3c7eb94c-23ac-458f-9d05-1b204dfe6153",
      "metadata": {
        "id": "3c7eb94c-23ac-458f-9d05-1b204dfe6153"
      },
      "outputs": [],
      "source": [
        "# cafe - caf | caf"
      ]
    },
    {
      "cell_type": "code",
      "execution_count": null,
      "id": "7c254547-8609-4e17-baa3-1ec053529fcf",
      "metadata": {
        "id": "7c254547-8609-4e17-baa3-1ec053529fcf",
        "outputId": "f2d508cd-7c7e-4d2d-b091-341f06cceb9d"
      },
      "outputs": [
        {
          "data": {
            "text/plain": [
              "array(['Yes', 'No'], dtype=object)"
            ]
          },
          "execution_count": 20,
          "metadata": {},
          "output_type": "execute_result"
        }
      ],
      "source": [
        "data.online_order.unique()"
      ]
    },
    {
      "cell_type": "code",
      "execution_count": null,
      "id": "6277349a-55ec-47c7-afe6-36c22161adfa",
      "metadata": {
        "id": "6277349a-55ec-47c7-afe6-36c22161adfa",
        "outputId": "14aec1d5-dea4-47d4-880c-1d9307e38fcf"
      },
      "outputs": [
        {
          "data": {
            "text/plain": [
              "array(['Yes', 'No'], dtype=object)"
            ]
          },
          "execution_count": 21,
          "metadata": {},
          "output_type": "execute_result"
        }
      ],
      "source": [
        "data.book_table.unique()"
      ]
    },
    {
      "cell_type": "code",
      "execution_count": null,
      "id": "d23a999b-449f-4460-9e51-f089e612712a",
      "metadata": {
        "id": "d23a999b-449f-4460-9e51-f089e612712a",
        "outputId": "2035c99b-3fce-478d-d334-86f8222dc408"
      },
      "outputs": [
        {
          "data": {
            "text/plain": [
              "array(['4.1/5', '3.8/5', '3.7/5', '3.6/5', '4.6/5', '4.0/5', '4.2/5',\n",
              "       '3.9/5', '3.1/5', '3.0/5', '3.2/5', '3.3/5', '2.8/5', '4.4/5',\n",
              "       '4.3/5', 'NEW', '2.9/5', '3.5/5', '2.6/5', '3.8 /5', '3.4/5',\n",
              "       '4.5/5', '2.5/5', '2.7/5', '4.7/5', '2.4/5', '2.2/5', '2.3/5',\n",
              "       '3.4 /5', '-', '3.6 /5', '4.8/5', '3.9 /5', '4.2 /5', '4.0 /5',\n",
              "       '4.1 /5', '3.7 /5', '3.1 /5', '2.9 /5', '3.3 /5', '2.8 /5',\n",
              "       '3.5 /5', '2.7 /5', '2.5 /5', '3.2 /5', '2.6 /5', '4.5 /5',\n",
              "       '4.3 /5', '4.4 /5', '4.9/5', '2.1/5', '2.0/5', '1.8/5', '4.6 /5',\n",
              "       '4.9 /5', '3.0 /5', '4.8 /5', '2.3 /5', '4.7 /5', '2.4 /5',\n",
              "       '2.1 /5', '2.2 /5', '2.0 /5', '1.8 /5'], dtype=object)"
            ]
          },
          "execution_count": 22,
          "metadata": {},
          "output_type": "execute_result"
        }
      ],
      "source": [
        "data.rating.unique()"
      ]
    },
    {
      "cell_type": "code",
      "execution_count": null,
      "id": "8be9e619-cff7-4207-ba0f-d9ba7957515f",
      "metadata": {
        "id": "8be9e619-cff7-4207-ba0f-d9ba7957515f"
      },
      "outputs": [],
      "source": [
        "replace = lambda x:x.replace('/5',\"\")\n",
        "l = []\n",
        "for val in map(replace,data['rating']):\n",
        "    if val != 'NEW' and val != '-':\n",
        "        var = float(val)\n",
        "    l.append(var)\n",
        "data['rating'] = l"
      ]
    },
    {
      "cell_type": "code",
      "execution_count": null,
      "id": "0f69a3c2-f68c-4a49-aad0-fa0f0b3cbb94",
      "metadata": {
        "id": "0f69a3c2-f68c-4a49-aad0-fa0f0b3cbb94",
        "outputId": "8b9f148f-fbb6-462e-8f84-f60d1f7a1a42"
      },
      "outputs": [
        {
          "data": {
            "text/plain": [
              "array([4.1, 3.8, 3.7, 3.6, 4.6, 4. , 4.2, 3.9, 3.1, 3. , 3.2, 3.3, 2.8,\n",
              "       4.4, 4.3, 2.9, 3.5, 2.6, 3.4, 4.5, 2.5, 2.7, 4.7, 2.4, 2.2, 2.3,\n",
              "       4.8, 4.9, 2.1, 2. , 1.8])"
            ]
          },
          "execution_count": 24,
          "metadata": {},
          "output_type": "execute_result"
        }
      ],
      "source": [
        "data.rating.unique()"
      ]
    },
    {
      "cell_type": "code",
      "execution_count": null,
      "id": "269027aa-594c-45b4-a598-793ee4efc983",
      "metadata": {
        "id": "269027aa-594c-45b4-a598-793ee4efc983",
        "outputId": "99b2e8b6-8d2e-4516-a5e5-5f6cb2f09885"
      },
      "outputs": [
        {
          "data": {
            "text/plain": [
              "votes\n",
              "False    43533\n",
              "Name: count, dtype: int64"
            ]
          },
          "execution_count": 25,
          "metadata": {},
          "output_type": "execute_result"
        }
      ],
      "source": [
        "data['votes'].isnull().value_counts()"
      ]
    },
    {
      "cell_type": "code",
      "execution_count": null,
      "id": "9b96ff93-590d-4e8c-89a3-91f0542615b2",
      "metadata": {
        "id": "9b96ff93-590d-4e8c-89a3-91f0542615b2",
        "outputId": "d74b4062-8e3b-4b9b-f7cf-df3331222932"
      },
      "outputs": [
        {
          "data": {
            "text/plain": [
              "array(['Banashankari', 'Basavanagudi', 'Mysore Road', 'Jayanagar',\n",
              "       'Kumaraswamy Layout', 'Rajarajeshwari Nagar', 'Vijay Nagar',\n",
              "       'Uttarahalli', 'JP Nagar', 'South Bangalore', 'City Market',\n",
              "       'Bannerghatta Road', 'BTM', 'Kanakapura Road', 'Bommanahalli',\n",
              "       'CV Raman Nagar', 'Electronic City', 'Wilson Garden',\n",
              "       'Shanti Nagar', 'Koramangala 5th Block', 'Richmond Road', 'HSR',\n",
              "       'Marathahalli', 'Koramangala 7th Block', 'Bellandur',\n",
              "       'Sarjapur Road', 'Whitefield', 'East Bangalore',\n",
              "       'Old Airport Road', 'Indiranagar', 'Koramangala 1st Block',\n",
              "       'Frazer Town', 'MG Road', 'Brigade Road', 'Lavelle Road',\n",
              "       'Church Street', 'Ulsoor', 'Residency Road', 'Shivajinagar',\n",
              "       'Infantry Road', 'St. Marks Road', 'Cunningham Road',\n",
              "       'Race Course Road', 'Commercial Street', 'Vasanth Nagar', 'Domlur',\n",
              "       'Koramangala 8th Block', 'Ejipura', 'Jeevan Bhima Nagar',\n",
              "       'Old Madras Road', 'Seshadripuram', 'Kammanahalli',\n",
              "       'Koramangala 6th Block', 'Majestic', 'Langford Town',\n",
              "       'Central Bangalore', 'Sanjay Nagar', 'Brookefield',\n",
              "       'ITPL Main Road, Whitefield', 'Varthur Main Road, Whitefield',\n",
              "       'Koramangala 2nd Block', 'Koramangala 3rd Block',\n",
              "       'Koramangala 4th Block', 'Koramangala', 'Hosur Road',\n",
              "       'Rajajinagar', 'RT Nagar', 'Banaswadi', 'North Bangalore',\n",
              "       'Nagawara', 'Hennur', 'Kalyan Nagar', 'HBR Layout',\n",
              "       'Rammurthy Nagar', 'Thippasandra', 'Kaggadasapura', 'Hebbal',\n",
              "       'Kengeri', 'New BEL Road', 'Sankey Road', 'Malleshwaram',\n",
              "       'Sadashiv Nagar', 'Basaveshwara Nagar', 'Yeshwantpur',\n",
              "       'West Bangalore', 'Magadi Road', 'Yelahanka', 'Sahakara Nagar',\n",
              "       'Jalahalli', 'Nagarbhavi', 'Peenya', 'KR Puram'], dtype=object)"
            ]
          },
          "execution_count": 26,
          "metadata": {},
          "output_type": "execute_result"
        }
      ],
      "source": [
        "data.location.unique()"
      ]
    },
    {
      "cell_type": "code",
      "execution_count": null,
      "id": "35c95f86-8d9b-44cb-bae9-db0f4c8afeae",
      "metadata": {
        "id": "35c95f86-8d9b-44cb-bae9-db0f4c8afeae",
        "outputId": "7a0f86cd-ac96-4868-ecf2-cdc9cd142a6c"
      },
      "outputs": [
        {
          "data": {
            "text/plain": [
              "array(['Casual Dining', 'Cafe, Casual Dining', 'Quick Bites',\n",
              "       'Casual Dining, Cafe', 'Cafe', 'Quick Bites, Cafe',\n",
              "       'Cafe, Quick Bites', 'Delivery', 'Mess', 'Dessert Parlor',\n",
              "       'Bakery, Dessert Parlor', 'Pub', 'Bakery', 'Takeaway, Delivery',\n",
              "       'Fine Dining', 'Beverage Shop', 'Sweet Shop', 'Bar',\n",
              "       'Dessert Parlor, Sweet Shop', 'Bakery, Quick Bites',\n",
              "       'Sweet Shop, Quick Bites', 'Kiosk', 'Food Truck',\n",
              "       'Quick Bites, Dessert Parlor', 'Beverage Shop, Quick Bites',\n",
              "       'Beverage Shop, Dessert Parlor', 'Takeaway', 'Pub, Casual Dining',\n",
              "       'Casual Dining, Bar', 'Dessert Parlor, Beverage Shop',\n",
              "       'Quick Bites, Bakery', 'Microbrewery, Casual Dining', 'Lounge',\n",
              "       'Bar, Casual Dining', 'Food Court', 'Cafe, Bakery', 'Dhaba',\n",
              "       'Quick Bites, Sweet Shop', 'Microbrewery',\n",
              "       'Food Court, Quick Bites', 'Quick Bites, Beverage Shop',\n",
              "       'Pub, Bar', 'Casual Dining, Pub', 'Lounge, Bar',\n",
              "       'Dessert Parlor, Quick Bites', 'Food Court, Dessert Parlor',\n",
              "       'Casual Dining, Sweet Shop', 'Food Court, Casual Dining',\n",
              "       'Casual Dining, Microbrewery', 'Lounge, Casual Dining',\n",
              "       'Cafe, Food Court', 'Beverage Shop, Cafe', 'Cafe, Dessert Parlor',\n",
              "       'Dessert Parlor, Cafe', 'Dessert Parlor, Bakery',\n",
              "       'Microbrewery, Pub', 'Bakery, Food Court', 'Club',\n",
              "       'Quick Bites, Food Court', 'Bakery, Cafe', 'Pub, Cafe',\n",
              "       'Casual Dining, Irani Cafee', 'Fine Dining, Lounge',\n",
              "       'Bar, Quick Bites', 'Confectionery', 'Pub, Microbrewery',\n",
              "       'Microbrewery, Lounge', 'Fine Dining, Microbrewery',\n",
              "       'Fine Dining, Bar', 'Dessert Parlor, Kiosk', 'Bhojanalya',\n",
              "       'Casual Dining, Quick Bites', 'Cafe, Bar', 'Casual Dining, Lounge',\n",
              "       'Bakery, Beverage Shop', 'Microbrewery, Bar', 'Cafe, Lounge',\n",
              "       'Bar, Pub', 'Lounge, Cafe', 'Club, Casual Dining',\n",
              "       'Quick Bites, Mess', 'Quick Bites, Meat Shop',\n",
              "       'Quick Bites, Kiosk', 'Lounge, Microbrewery',\n",
              "       'Food Court, Beverage Shop', 'Dessert Parlor, Food Court',\n",
              "       'Bar, Lounge'], dtype=object)"
            ]
          },
          "execution_count": 27,
          "metadata": {},
          "output_type": "execute_result"
        }
      ],
      "source": [
        "data['rest_type'].unique()"
      ]
    },
    {
      "cell_type": "code",
      "execution_count": null,
      "id": "f2024e22-32a4-4aad-8761-2e5412ac9e6c",
      "metadata": {
        "id": "f2024e22-32a4-4aad-8761-2e5412ac9e6c",
        "outputId": "149c222d-0ba6-4831-ac8c-ec12477e7771"
      },
      "outputs": [
        {
          "data": {
            "text/plain": [
              "array(['North Indian, Mughlai, Chinese', 'Chinese, North Indian, Thai',\n",
              "       'Cafe, Mexican, Italian', ..., 'Tibetan, Nepalese',\n",
              "       'North Indian, Street Food, Biryani',\n",
              "       'North Indian, Chinese, Arabian, Momos'], dtype=object)"
            ]
          },
          "execution_count": 28,
          "metadata": {},
          "output_type": "execute_result"
        }
      ],
      "source": [
        "data.food_type.unique()"
      ]
    },
    {
      "cell_type": "code",
      "execution_count": null,
      "id": "b9b28e26-b589-4fff-898c-63ca6d9ce69a",
      "metadata": {
        "id": "b9b28e26-b589-4fff-898c-63ca6d9ce69a",
        "outputId": "11bae597-ffc3-4d78-89a7-f92b18a04965"
      },
      "outputs": [
        {
          "data": {
            "text/plain": [
              "array(['800', '300', '600', '700', '550', '500', '450', '650', '400',\n",
              "       '900', '200', '750', '150', '850', '100', '1,200', '350', '250',\n",
              "       '950', '1,000', '1,500', '1,300', '199', '80', '1,100', '160',\n",
              "       '1,600', '230', '130', '1,700', '1,400', '1,350', '2,200', '2,000',\n",
              "       '1,800', '1,900', '180', '330', '2,500', '2,100', '3,000', '2,800',\n",
              "       '3,400', '50', '40', '1,250', '3,500', '4,000', '2,400', '2,600',\n",
              "       '1,450', '70', '3,200', '560', '240', '360', '6,000', '1,050',\n",
              "       '2,300', '4,100', '120', '5,000', '3,700', '1,650', '2,700',\n",
              "       '4,500'], dtype=object)"
            ]
          },
          "execution_count": 29,
          "metadata": {},
          "output_type": "execute_result"
        }
      ],
      "source": [
        "data.cost.unique()"
      ]
    },
    {
      "cell_type": "code",
      "execution_count": null,
      "id": "7941a7a3-abb2-4aaf-9f49-2db2d11fceed",
      "metadata": {
        "id": "7941a7a3-abb2-4aaf-9f49-2db2d11fceed"
      },
      "outputs": [],
      "source": [
        "data['cost'] = data['cost'].apply(lambda x:x.replace(\",\",\"\")).astype(int)"
      ]
    },
    {
      "cell_type": "code",
      "execution_count": null,
      "id": "8f2c7b99-902c-4e94-8e5b-9452906a9a6f",
      "metadata": {
        "id": "8f2c7b99-902c-4e94-8e5b-9452906a9a6f",
        "outputId": "822be810-6406-4797-a19a-a3762e4a12e9"
      },
      "outputs": [
        {
          "data": {
            "text/plain": [
              "array([ 800,  300,  600,  700,  550,  500,  450,  650,  400,  900,  200,\n",
              "        750,  150,  850,  100, 1200,  350,  250,  950, 1000, 1500, 1300,\n",
              "        199,   80, 1100,  160, 1600,  230,  130, 1700, 1400, 1350, 2200,\n",
              "       2000, 1800, 1900,  180,  330, 2500, 2100, 3000, 2800, 3400,   50,\n",
              "         40, 1250, 3500, 4000, 2400, 2600, 1450,   70, 3200,  560,  240,\n",
              "        360, 6000, 1050, 2300, 4100,  120, 5000, 3700, 1650, 2700, 4500])"
            ]
          },
          "execution_count": 31,
          "metadata": {},
          "output_type": "execute_result"
        }
      ],
      "source": [
        "data.cost.unique()"
      ]
    },
    {
      "cell_type": "code",
      "execution_count": null,
      "id": "1304b841-cf95-44d3-be73-91dfa925aab3",
      "metadata": {
        "id": "1304b841-cf95-44d3-be73-91dfa925aab3",
        "outputId": "3bdbb5b0-0780-4cae-9cc4-e12e1810a74d"
      },
      "outputs": [
        {
          "data": {
            "text/plain": [
              "dtype('int32')"
            ]
          },
          "execution_count": 32,
          "metadata": {},
          "output_type": "execute_result"
        }
      ],
      "source": [
        "data.cost.dtype"
      ]
    },
    {
      "cell_type": "code",
      "execution_count": null,
      "id": "3b60be3f-b813-45f0-b5b9-022d5943b281",
      "metadata": {
        "id": "3b60be3f-b813-45f0-b5b9-022d5943b281",
        "outputId": "c9001f1a-5ce6-4613-df34-1ae7b60f9cce"
      },
      "outputs": [
        {
          "data": {
            "text/plain": [
              "Index(['restaurent', 'online_order', 'book_table', 'rating', 'votes',\n",
              "       'location', 'rest_type', 'food_type', 'cost', 'reviews_list', 'type',\n",
              "       'city'],\n",
              "      dtype='object')"
            ]
          },
          "execution_count": 33,
          "metadata": {},
          "output_type": "execute_result"
        }
      ],
      "source": [
        "data.columns"
      ]
    },
    {
      "cell_type": "code",
      "execution_count": null,
      "id": "a0e51db6-999c-4aaf-b836-b9099d8fea2d",
      "metadata": {
        "id": "a0e51db6-999c-4aaf-b836-b9099d8fea2d",
        "outputId": "44f0b247-a119-4d4e-8c11-0a45306f1122"
      },
      "outputs": [
        {
          "data": {
            "text/plain": [
              "array(['Buffet', 'Cafes', 'Delivery', 'Desserts', 'Dine-out',\n",
              "       'Drinks & nightlife', 'Pubs and bars'], dtype=object)"
            ]
          },
          "execution_count": 34,
          "metadata": {},
          "output_type": "execute_result"
        }
      ],
      "source": [
        "data.type.unique()"
      ]
    },
    {
      "cell_type": "code",
      "execution_count": null,
      "id": "674a51db-16fa-45d3-b9a5-2c48af3bbc61",
      "metadata": {
        "id": "674a51db-16fa-45d3-b9a5-2c48af3bbc61",
        "outputId": "0b215c5f-367b-45bf-fd2c-868fd04f5fc1"
      },
      "outputs": [
        {
          "data": {
            "text/plain": [
              "array(['Banashankari', 'Bannerghatta Road', 'Basavanagudi', 'Bellandur',\n",
              "       'Brigade Road', 'Brookefield', 'BTM', 'Church Street',\n",
              "       'Electronic City', 'Frazer Town', 'HSR', 'Indiranagar',\n",
              "       'Jayanagar', 'JP Nagar', 'Kalyan Nagar', 'Kammanahalli',\n",
              "       'Koramangala 4th Block', 'Koramangala 5th Block',\n",
              "       'Koramangala 6th Block', 'Koramangala 7th Block', 'Lavelle Road',\n",
              "       'Malleshwaram', 'Marathahalli', 'MG Road', 'New BEL Road',\n",
              "       'Old Airport Road', 'Rajajinagar', 'Residency Road',\n",
              "       'Sarjapur Road', 'Whitefield'], dtype=object)"
            ]
          },
          "execution_count": 35,
          "metadata": {},
          "output_type": "execute_result"
        }
      ],
      "source": [
        "data.city.unique()"
      ]
    },
    {
      "cell_type": "code",
      "execution_count": null,
      "id": "58464f12-51bf-4dc3-a2b3-9f777f09c6a1",
      "metadata": {
        "id": "58464f12-51bf-4dc3-a2b3-9f777f09c6a1",
        "outputId": "d6b6a7e7-443d-4858-b544-7e7752d8bb7b"
      },
      "outputs": [
        {
          "data": {
            "text/plain": [
              "False    43484\n",
              "True        49\n",
              "Name: count, dtype: int64"
            ]
          },
          "execution_count": 36,
          "metadata": {},
          "output_type": "execute_result"
        }
      ],
      "source": [
        "data.duplicated().value_counts()"
      ]
    },
    {
      "cell_type": "code",
      "execution_count": null,
      "id": "24fbd5ef-ba90-410d-8fd7-c0a9ab8a5ffd",
      "metadata": {
        "id": "24fbd5ef-ba90-410d-8fd7-c0a9ab8a5ffd"
      },
      "outputs": [],
      "source": [
        "data.drop_duplicates(keep='last',inplace=True)\n",
        "data.reset_index(drop=True,inplace=True)"
      ]
    },
    {
      "cell_type": "code",
      "execution_count": null,
      "id": "d13a2d3b-4cd3-43e5-a7b4-04a1850d32fb",
      "metadata": {
        "id": "d13a2d3b-4cd3-43e5-a7b4-04a1850d32fb",
        "outputId": "5a9964c9-72a6-4d3c-c6d8-11c49c3ada0b"
      },
      "outputs": [
        {
          "data": {
            "text/plain": [
              "False    43484\n",
              "Name: count, dtype: int64"
            ]
          },
          "execution_count": 38,
          "metadata": {},
          "output_type": "execute_result"
        }
      ],
      "source": [
        "data.duplicated().value_counts()"
      ]
    },
    {
      "cell_type": "code",
      "execution_count": null,
      "id": "c72855d5-597b-40b8-be4a-963bf9b233b7",
      "metadata": {
        "id": "c72855d5-597b-40b8-be4a-963bf9b233b7",
        "outputId": "739df72b-4d7a-47d1-bb57-c7c9b5b7b714"
      },
      "outputs": [
        {
          "name": "stdout",
          "output_type": "stream",
          "text": [
            "<class 'pandas.core.frame.DataFrame'>\n",
            "RangeIndex: 43484 entries, 0 to 43483\n",
            "Data columns (total 12 columns):\n",
            " #   Column        Non-Null Count  Dtype  \n",
            "---  ------        --------------  -----  \n",
            " 0   restaurent    43484 non-null  object \n",
            " 1   online_order  43484 non-null  object \n",
            " 2   book_table    43484 non-null  object \n",
            " 3   rating        43484 non-null  float64\n",
            " 4   votes         43484 non-null  int64  \n",
            " 5   location      43484 non-null  object \n",
            " 6   rest_type     43484 non-null  object \n",
            " 7   food_type     43484 non-null  object \n",
            " 8   cost          43484 non-null  int32  \n",
            " 9   reviews_list  43484 non-null  object \n",
            " 10  type          43484 non-null  object \n",
            " 11  city          43484 non-null  object \n",
            "dtypes: float64(1), int32(1), int64(1), object(9)\n",
            "memory usage: 3.8+ MB\n"
          ]
        }
      ],
      "source": [
        "data.info()"
      ]
    },
    {
      "cell_type": "code",
      "execution_count": null,
      "id": "0ddfcc85-2f5f-414b-beb9-465a294c5344",
      "metadata": {
        "id": "0ddfcc85-2f5f-414b-beb9-465a294c5344"
      },
      "outputs": [],
      "source": []
    },
    {
      "cell_type": "code",
      "execution_count": null,
      "id": "41b551f1-4c29-4e43-9f79-907de52bab37",
      "metadata": {
        "id": "41b551f1-4c29-4e43-9f79-907de52bab37",
        "outputId": "ec42aceb-9749-44be-c97a-bd4d0f2f938a"
      },
      "outputs": [
        {
          "name": "stderr",
          "output_type": "stream",
          "text": [
            "<>:1: SyntaxWarning: invalid escape sequence '\\W'\n",
            "<>:1: SyntaxWarning: invalid escape sequence '\\W'\n",
            "C:\\Users\\webin\\AppData\\Local\\Temp\\ipykernel_15196\\1831698448.py:1: SyntaxWarning: invalid escape sequence '\\W'\n",
            "  data.to_csv(\"D:\\Webinar Recordings\\Rushikesh-DSML\\Code Files\\Zomata EDA\\dataset\\zomato_clean.csv\")\n"
          ]
        }
      ],
      "source": [
        "data.to_csv(\"D:\\Webinar Recordings\\Rushikesh-DSML\\Code Files\\Zomata EDA\\dataset\\zomato_clean.csv\")"
      ]
    },
    {
      "cell_type": "markdown",
      "id": "be05db70-24ec-4d72-8f6f-6ec2c936450d",
      "metadata": {
        "id": "be05db70-24ec-4d72-8f6f-6ec2c936450d"
      },
      "source": [
        "## Data Visualization"
      ]
    },
    {
      "cell_type": "code",
      "execution_count": null,
      "id": "fbd05011-0926-43d5-91f9-4c8dae6907ce",
      "metadata": {
        "id": "fbd05011-0926-43d5-91f9-4c8dae6907ce"
      },
      "outputs": [],
      "source": [
        "import seaborn as sns\n",
        "import matplotlib.pyplot as plt"
      ]
    },
    {
      "cell_type": "code",
      "execution_count": null,
      "id": "24d54510-f807-41d1-8226-5937a0b17d57",
      "metadata": {
        "id": "24d54510-f807-41d1-8226-5937a0b17d57",
        "outputId": "0cfaccfc-17c4-44a4-8924-fa282310a221"
      },
      "outputs": [
        {
          "name": "stderr",
          "output_type": "stream",
          "text": [
            "<>:2: SyntaxWarning: invalid escape sequence '\\W'\n",
            "<>:2: SyntaxWarning: invalid escape sequence '\\W'\n",
            "C:\\Users\\webin\\AppData\\Local\\Temp\\ipykernel_15196\\2019547945.py:2: SyntaxWarning: invalid escape sequence '\\W'\n",
            "  data = pd.read_csv(\"D:\\Webinar Recordings\\Rushikesh-DSML\\Code Files\\Zomata EDA\\dataset\\zomato_clean.csv\",index_col=0)\n"
          ]
        },
        {
          "data": {
            "text/html": [
              "<div>\n",
              "<style scoped>\n",
              "    .dataframe tbody tr th:only-of-type {\n",
              "        vertical-align: middle;\n",
              "    }\n",
              "\n",
              "    .dataframe tbody tr th {\n",
              "        vertical-align: top;\n",
              "    }\n",
              "\n",
              "    .dataframe thead th {\n",
              "        text-align: right;\n",
              "    }\n",
              "</style>\n",
              "<table border=\"1\" class=\"dataframe\">\n",
              "  <thead>\n",
              "    <tr style=\"text-align: right;\">\n",
              "      <th></th>\n",
              "      <th>restaurent</th>\n",
              "      <th>online_order</th>\n",
              "      <th>book_table</th>\n",
              "      <th>rating</th>\n",
              "      <th>votes</th>\n",
              "      <th>location</th>\n",
              "      <th>rest_type</th>\n",
              "      <th>food_type</th>\n",
              "      <th>cost</th>\n",
              "      <th>reviews_list</th>\n",
              "      <th>type</th>\n",
              "      <th>city</th>\n",
              "    </tr>\n",
              "  </thead>\n",
              "  <tbody>\n",
              "    <tr>\n",
              "      <th>0</th>\n",
              "      <td>Jalsa</td>\n",
              "      <td>Yes</td>\n",
              "      <td>Yes</td>\n",
              "      <td>4.1</td>\n",
              "      <td>775</td>\n",
              "      <td>Banashankari</td>\n",
              "      <td>Casual Dining</td>\n",
              "      <td>North Indian, Mughlai, Chinese</td>\n",
              "      <td>800</td>\n",
              "      <td>[('Rated 4.0', 'RATED\\n  A beautiful place to ...</td>\n",
              "      <td>Buffet</td>\n",
              "      <td>Banashankari</td>\n",
              "    </tr>\n",
              "    <tr>\n",
              "      <th>1</th>\n",
              "      <td>Spice Elephant</td>\n",
              "      <td>Yes</td>\n",
              "      <td>No</td>\n",
              "      <td>4.1</td>\n",
              "      <td>787</td>\n",
              "      <td>Banashankari</td>\n",
              "      <td>Casual Dining</td>\n",
              "      <td>Chinese, North Indian, Thai</td>\n",
              "      <td>800</td>\n",
              "      <td>[('Rated 4.0', 'RATED\\n  Had been here for din...</td>\n",
              "      <td>Buffet</td>\n",
              "      <td>Banashankari</td>\n",
              "    </tr>\n",
              "    <tr>\n",
              "      <th>2</th>\n",
              "      <td>San Churro Cafe</td>\n",
              "      <td>Yes</td>\n",
              "      <td>No</td>\n",
              "      <td>3.8</td>\n",
              "      <td>918</td>\n",
              "      <td>Banashankari</td>\n",
              "      <td>Cafe, Casual Dining</td>\n",
              "      <td>Cafe, Mexican, Italian</td>\n",
              "      <td>800</td>\n",
              "      <td>[('Rated 3.0', \"RATED\\n  Ambience is not that ...</td>\n",
              "      <td>Buffet</td>\n",
              "      <td>Banashankari</td>\n",
              "    </tr>\n",
              "    <tr>\n",
              "      <th>3</th>\n",
              "      <td>Addhuri Udupi Bhojana</td>\n",
              "      <td>No</td>\n",
              "      <td>No</td>\n",
              "      <td>3.7</td>\n",
              "      <td>88</td>\n",
              "      <td>Banashankari</td>\n",
              "      <td>Quick Bites</td>\n",
              "      <td>South Indian, North Indian</td>\n",
              "      <td>300</td>\n",
              "      <td>[('Rated 4.0', \"RATED\\n  Great food and proper...</td>\n",
              "      <td>Buffet</td>\n",
              "      <td>Banashankari</td>\n",
              "    </tr>\n",
              "    <tr>\n",
              "      <th>4</th>\n",
              "      <td>Grand Village</td>\n",
              "      <td>No</td>\n",
              "      <td>No</td>\n",
              "      <td>3.8</td>\n",
              "      <td>166</td>\n",
              "      <td>Basavanagudi</td>\n",
              "      <td>Casual Dining</td>\n",
              "      <td>North Indian, Rajasthani</td>\n",
              "      <td>600</td>\n",
              "      <td>[('Rated 4.0', 'RATED\\n  Very good restaurant ...</td>\n",
              "      <td>Buffet</td>\n",
              "      <td>Banashankari</td>\n",
              "    </tr>\n",
              "  </tbody>\n",
              "</table>\n",
              "</div>"
            ],
            "text/plain": [
              "              restaurent online_order book_table  rating  votes      location  \\\n",
              "0                  Jalsa          Yes        Yes     4.1    775  Banashankari   \n",
              "1         Spice Elephant          Yes         No     4.1    787  Banashankari   \n",
              "2        San Churro Cafe          Yes         No     3.8    918  Banashankari   \n",
              "3  Addhuri Udupi Bhojana           No         No     3.7     88  Banashankari   \n",
              "4          Grand Village           No         No     3.8    166  Basavanagudi   \n",
              "\n",
              "             rest_type                       food_type  cost  \\\n",
              "0        Casual Dining  North Indian, Mughlai, Chinese   800   \n",
              "1        Casual Dining     Chinese, North Indian, Thai   800   \n",
              "2  Cafe, Casual Dining          Cafe, Mexican, Italian   800   \n",
              "3          Quick Bites      South Indian, North Indian   300   \n",
              "4        Casual Dining        North Indian, Rajasthani   600   \n",
              "\n",
              "                                        reviews_list    type          city  \n",
              "0  [('Rated 4.0', 'RATED\\n  A beautiful place to ...  Buffet  Banashankari  \n",
              "1  [('Rated 4.0', 'RATED\\n  Had been here for din...  Buffet  Banashankari  \n",
              "2  [('Rated 3.0', \"RATED\\n  Ambience is not that ...  Buffet  Banashankari  \n",
              "3  [('Rated 4.0', \"RATED\\n  Great food and proper...  Buffet  Banashankari  \n",
              "4  [('Rated 4.0', 'RATED\\n  Very good restaurant ...  Buffet  Banashankari  "
            ]
          },
          "execution_count": 118,
          "metadata": {},
          "output_type": "execute_result"
        }
      ],
      "source": [
        "# load clean data\n",
        "data = pd.read_csv(\"D:\\Webinar Recordings\\Rushikesh-DSML\\Code Files\\Zomata EDA\\dataset\\zomato_clean.csv\",index_col=0)\n",
        "data.head()"
      ]
    },
    {
      "cell_type": "code",
      "execution_count": null,
      "id": "b09b6263-ba3f-46da-9d56-0395d4c7464f",
      "metadata": {
        "id": "b09b6263-ba3f-46da-9d56-0395d4c7464f",
        "outputId": "9dc6a37b-75df-4301-e403-c91c9e12ef1d"
      },
      "outputs": [
        {
          "data": {
            "text/plain": [
              "(43484, 12)"
            ]
          },
          "execution_count": 120,
          "metadata": {},
          "output_type": "execute_result"
        }
      ],
      "source": [
        "data.shape"
      ]
    },
    {
      "cell_type": "markdown",
      "id": "0259e835-c255-469a-b744-3fcf7c17d56d",
      "metadata": {
        "id": "0259e835-c255-469a-b744-3fcf7c17d56d"
      },
      "source": [
        "1. How many restaurants accpeting online order for zomato?"
      ]
    },
    {
      "cell_type": "code",
      "execution_count": null,
      "id": "e8aaccbe-c62c-44a7-8415-bd467c2d87fc",
      "metadata": {
        "id": "e8aaccbe-c62c-44a7-8415-bd467c2d87fc",
        "outputId": "4647e4f9-17ec-4633-910b-22a92f08962d"
      },
      "outputs": [
        {
          "data": {
            "text/plain": [
              "online_order\n",
              "Yes    28163\n",
              "No     15321\n",
              "Name: count, dtype: int64"
            ]
          },
          "execution_count": 130,
          "metadata": {},
          "output_type": "execute_result"
        }
      ],
      "source": [
        "data.online_order.value_counts()"
      ]
    },
    {
      "cell_type": "code",
      "execution_count": null,
      "id": "a1f086af-460c-4fd9-aaf6-34e7ed407b3e",
      "metadata": {
        "id": "a1f086af-460c-4fd9-aaf6-34e7ed407b3e",
        "outputId": "bb53e065-a736-40cc-d510-aec8d1ea5ec7"
      },
      "outputs": [
        {
          "data": {
            "text/plain": [
              "<Axes: xlabel='online_order'>"
            ]
          },
          "execution_count": 124,
          "metadata": {},
          "output_type": "execute_result"
        },
        {
          "data": {
            "image/png": "[encoded data removed]",
            "text/plain": [
              "<Figure size 640x480 with 1 Axes>"
            ]
          },
          "metadata": {},
          "output_type": "display_data"
        }
      ],
      "source": [
        "data.online_order.value_counts().plot(kind ='bar')"
      ]
    },
    {
      "cell_type": "code",
      "execution_count": null,
      "id": "c530600d-ae92-48d4-82a2-e1f00426e732",
      "metadata": {
        "scrolled": true,
        "id": "c530600d-ae92-48d4-82a2-e1f00426e732",
        "outputId": "9bb7e013-1afd-4f09-b9f6-327b73925fb6"
      },
      "outputs": [
        {
          "data": {
            "image/png": "[encoded data removed]",
            "text/plain": [
              "<Figure size 1000x500 with 1 Axes>"
            ]
          },
          "metadata": {},
          "output_type": "display_data"
        }
      ],
      "source": [
        "plt.figure(figsize=(10,5))\n",
        "sns.countplot(x='online_order',data=data)\n",
        "plt.show()"
      ]
    },
    {
      "cell_type": "markdown",
      "id": "600ae959-2643-40fa-9174-c0ce1321b151",
      "metadata": {
        "id": "600ae959-2643-40fa-9174-c0ce1321b151"
      },
      "source": [
        "Given the dataset, There are 28163 restaurents which delivers online and reamining 15321 dose not deliver online."
      ]
    },
    {
      "cell_type": "markdown",
      "id": "6c322b08-f193-44d6-a2f3-f04862b287da",
      "metadata": {
        "id": "6c322b08-f193-44d6-a2f3-f04862b287da"
      },
      "source": [
        "2. Find best location by seeing dataset."
      ]
    },
    {
      "cell_type": "code",
      "execution_count": null,
      "id": "c70a3321-da7d-44b7-9098-8ed63e810958",
      "metadata": {
        "id": "c70a3321-da7d-44b7-9098-8ed63e810958",
        "outputId": "a1461ee9-6322-4344-b219-e1a489793ace"
      },
      "outputs": [
        {
          "data": {
            "image/png": "[encoded data removed]",
            "text/plain": [
              "<Figure size 1200x1000 with 2 Axes>"
            ]
          },
          "metadata": {},
          "output_type": "display_data"
        }
      ],
      "source": [
        "plt.figure(figsize=(12,10)) # seeting graph size using matplotlib\n",
        "ax = plt.subplot(2,1,1)   # use of Subploting\n",
        "\n",
        "\n",
        "# sorting location on avg of ratings in descending order and reading first 5 values\n",
        "loc_rating=data.groupby('location').agg({'rating':'median'})\n",
        "rating_sorted_loc=loc_rating.sort_values('rating',ascending=False).head(5).reset_index()\n",
        "\n",
        "# ploting graph using seaborn\n",
        "sns.barplot(x='location',y='rating',data=rating_sorted_loc)\n",
        "\n",
        "\n",
        "ax = plt.subplot(2,1,2)\n",
        "\n",
        "# sorting location on avg of votes in descending order and reading first 5 values\n",
        "loc_votes=data.groupby('location').agg({'votes':'median'})\n",
        "votes_sorted_loc=loc_votes.sort_values('votes',ascending=False).head(5).reset_index()\n",
        "\n",
        "# ploting graph using seaborn\n",
        "sns.barplot(x='location',y='votes',\n",
        "            data=votes_sorted_loc)\n",
        "plt.show()"
      ]
    },
    {
      "cell_type": "markdown",
      "id": "1db01073-4ec4-4a94-aa30-87e88d5d69a8",
      "metadata": {
        "id": "1db01073-4ec4-4a94-aa30-87e88d5d69a8"
      },
      "source": [
        "3. Find Types of restraunts and their count."
      ]
    },
    {
      "cell_type": "code",
      "execution_count": null,
      "id": "b4d2bb8c-32b8-4d66-8095-01bd5ec837ac",
      "metadata": {
        "id": "b4d2bb8c-32b8-4d66-8095-01bd5ec837ac",
        "outputId": "7fe0d8b3-8ccf-49c6-84b0-8da3856fceef"
      },
      "outputs": [
        {
          "data": {
            "text/plain": [
              "(87, <Axes: xlabel='restaurent', ylabel='rest_type'>)"
            ]
          },
          "execution_count": 149,
          "metadata": {},
          "output_type": "execute_result"
        },
        {
          "data": {
            "image/png": "[encoded data removed]",
            "text/plain": [
              "<Figure size 1000x2000 with 1 Axes>"
            ]
          },
          "metadata": {},
          "output_type": "display_data"
        }
      ],
      "source": [
        "plt.figure(figsize=(10,20))\n",
        "rest_types = data.groupby('rest_type')['restaurent'].count().reset_index()\n",
        "sorted_rest_types = rest_types.sort_values('restaurent',ascending=False).head(30)\n",
        "#print(sorted_rest_types)\n",
        "\n",
        "rest_types.rest_type.count(), sns.barplot(x='restaurent',y='rest_type',data = sorted_rest_types, orient='h')"
      ]
    },
    {
      "cell_type": "markdown",
      "id": "ef995c2c-3627-4b34-b6a5-25754853a6d6",
      "metadata": {
        "id": "ef995c2c-3627-4b34-b6a5-25754853a6d6"
      },
      "source": [
        "4. Find Cost's Of restaurants"
      ]
    },
    {
      "cell_type": "code",
      "execution_count": null,
      "id": "24afae6d-510e-4340-91a7-62c797e6a20b",
      "metadata": {
        "id": "24afae6d-510e-4340-91a7-62c797e6a20b",
        "outputId": "d5cbf075-2a59-4ca3-e8e1-7fbc6c4c2fcc"
      },
      "outputs": [
        {
          "data": {
            "image/png": "[encoded data removed]",
            "text/plain": [
              "<Figure size 1000x500 with 1 Axes>"
            ]
          },
          "metadata": {},
          "output_type": "display_data"
        }
      ],
      "source": [
        "plt.figure(figsize=(10,5))\n",
        "sns.kdeplot(x='cost',data=data)\n",
        "plt.show()"
      ]
    },
    {
      "cell_type": "markdown",
      "id": "3dddb889-fa53-40e2-b11a-e96037555d69",
      "metadata": {
        "id": "3dddb889-fa53-40e2-b11a-e96037555d69"
      },
      "source": [
        "5. Find count of restaurants have table boking facility."
      ]
    },
    {
      "cell_type": "code",
      "execution_count": null,
      "id": "54eaf807-9c21-4878-ab66-d4d43f71b17a",
      "metadata": {
        "id": "54eaf807-9c21-4878-ab66-d4d43f71b17a",
        "outputId": "3f045829-b6e3-4d02-8fcc-4130acadf3bd"
      },
      "outputs": [
        {
          "data": {
            "text/plain": [
              "book_table\n",
              "No     37062\n",
              "Yes     6422\n",
              "Name: count, dtype: int64"
            ]
          },
          "execution_count": 159,
          "metadata": {},
          "output_type": "execute_result"
        }
      ],
      "source": [
        "data['book_table'].value_counts()"
      ]
    },
    {
      "cell_type": "code",
      "execution_count": null,
      "id": "0909b934-8517-4fc4-80b5-95e2eb822c48",
      "metadata": {
        "id": "0909b934-8517-4fc4-80b5-95e2eb822c48",
        "outputId": "e3d3f2c3-98ae-4ede-a3f5-7cd6a79cbc84"
      },
      "outputs": [
        {
          "data": {
            "image/png": "[encoded data removed]",
            "text/plain": [
              "<Figure size 1000x500 with 1 Axes>"
            ]
          },
          "metadata": {},
          "output_type": "display_data"
        }
      ],
      "source": [
        "plt.figure(figsize=(10,5))\n",
        "table_booking = data.groupby('book_table')['restaurent'].count().reset_index()\n",
        "\n",
        "sns.pointplot(x='book_table',y='restaurent',color='b',data=table_booking)\n",
        "plt.show()"
      ]
    },
    {
      "cell_type": "markdown",
      "id": "7bcd48d6-b0f8-4533-9176-2c5d2cafe668",
      "metadata": {
        "id": "7bcd48d6-b0f8-4533-9176-2c5d2cafe668"
      },
      "source": [
        "6. Find number of restaurant at given location.\n",
        "- 'BTM'\n",
        "- 'Basavanagudi'\n",
        "- 'West Bangalore'\n",
        "- 'Whitefield'\n",
        "- 'Yeshwantpur'"
      ]
    },
    {
      "cell_type": "code",
      "execution_count": null,
      "id": "bcc2cef4-1655-4532-8d28-010d70533917",
      "metadata": {
        "id": "bcc2cef4-1655-4532-8d28-010d70533917",
        "outputId": "7b184662-4ca9-40f0-90a8-ac19ee59238c"
      },
      "outputs": [
        {
          "data": {
            "image/png": "[encoded data removed]",
            "text/plain": [
              "<Figure size 640x480 with 1 Axes>"
            ]
          },
          "metadata": {},
          "output_type": "display_data"
        }
      ],
      "source": [
        "df=pd.DataFrame(data.groupby('location')['restaurent'].count()).reset_index()\n",
        "\n",
        "criteria=df['location'].isin(['BTM','Basavanagudi','West Bangalore','Whitefield','Yeshwantpur'])\n",
        "\n",
        "sns.barplot(x='location',y='restaurent',data=df[criteria])\n",
        "plt.show()"
      ]
    },
    {
      "cell_type": "code",
      "execution_count": null,
      "id": "069425c9-f700-427f-b3a4-7f4d482d25e2",
      "metadata": {
        "id": "069425c9-f700-427f-b3a4-7f4d482d25e2"
      },
      "outputs": [],
      "source": []
    },
    {
      "cell_type": "code",
      "execution_count": null,
      "id": "3e4ca36d-a484-4f40-8715-23c259157fdf",
      "metadata": {
        "id": "3e4ca36d-a484-4f40-8715-23c259157fdf"
      },
      "outputs": [],
      "source": []
    }
  ],
  "metadata": {
    "kernelspec": {
      "display_name": "Python 3 (ipykernel)",
      "language": "python",
      "name": "python3"
    },
    "language_info": {
      "codemirror_mode": {
        "name": "ipython",
        "version": 3
      },
      "file_extension": ".py",
      "mimetype": "text/x-python",
      "name": "python",
      "nbconvert_exporter": "python",
      "pygments_lexer": "ipython3",
      "version": "3.12.4"
    },
    "colab": {
      "provenance": []
    }
  },
  "nbformat": 4,
  "nbformat_minor": 5
}