{
 "cells": [
  {
   "cell_type": "markdown",
   "id": "c0395aba",
   "metadata": {},
   "source": [
    "# TARGET GUIDED ORDINAL ENCODING"
   ]
  },
  {
   "cell_type": "markdown",
   "id": "4a214465",
   "metadata": {},
   "source": [
    "In this target guided ordinal encoding, we assign integer values to categories based on the mean of the target variable for each category. This way, categories that are associated with higher target values receive higher integer values, and those associated with lower target values receive lower integer values. This method is particularly useful when there is a meaningful relationship between the categorical feature and the target variable, as it helps to capture this relationship in a way that can be leveraged by machine learning algorithms. --- IGNORE ---"
   ]
  },
  {
   "cell_type": "code",
   "execution_count": 1,
   "id": "fa2f6db8",
   "metadata": {},
   "outputs": [],
   "source": [
    "import pandas as pd "
   ]
  },
  {
   "cell_type": "code",
   "execution_count": 7,
   "id": "5dcc69c0",
   "metadata": {},
   "outputs": [],
   "source": [
    "city_price_data=pd.DataFrame({\n",
    "    \"CITY\":[\"BANGLORE\",\"HYDERABAD\",\"CHENNAI\",\"DELHI\",\"MUMBAI\",\"KOLKATA\",\"PUNE\",\"BANGLORE\",\"CHENNAI\",\"DELHI\"],\n",
    "    \"PRICE\":[100,200,300,400,500,600,700,800,900,1000]\n",
    "})"
   ]
  },
  {
   "cell_type": "code",
   "execution_count": 10,
   "id": "e4c778cc",
   "metadata": {},
   "outputs": [],
   "source": [
    "mean_price=city_price_data.groupby(\"CITY\")[\"PRICE\"].mean().to_dict()"
   ]
  },
  {
   "cell_type": "code",
   "execution_count": 11,
   "id": "f2e27861",
   "metadata": {},
   "outputs": [
    {
     "data": {
      "text/plain": [
       "{'BANGLORE': 450.0,\n",
       " 'CHENNAI': 600.0,\n",
       " 'DELHI': 700.0,\n",
       " 'HYDERABAD': 200.0,\n",
       " 'KOLKATA': 600.0,\n",
       " 'MUMBAI': 500.0,\n",
       " 'PUNE': 700.0}"
      ]
     },
     "execution_count": 11,
     "metadata": {},
     "output_type": "execute_result"
    }
   ],
   "source": [
    "mean_price"
   ]
  },
  {
   "cell_type": "code",
   "execution_count": 16,
   "id": "1ee12830",
   "metadata": {},
   "outputs": [],
   "source": [
    "city_price_data[\"CITY_ENCODED\"]=city_price_data[\"CITY\"].map(mean_price)"
   ]
  },
  {
   "cell_type": "code",
   "execution_count": 20,
   "id": "99745f00",
   "metadata": {},
   "outputs": [
    {
     "data": {
      "text/html": [
       "<div>\n",
       "<style scoped>\n",
       "    .dataframe tbody tr th:only-of-type {\n",
       "        vertical-align: middle;\n",
       "    }\n",
       "\n",
       "    .dataframe tbody tr th {\n",
       "        vertical-align: top;\n",
       "    }\n",
       "\n",
       "    .dataframe thead th {\n",
       "        text-align: right;\n",
       "    }\n",
       "</style>\n",
       "<table border=\"1\" class=\"dataframe\">\n",
       "  <thead>\n",
       "    <tr style=\"text-align: right;\">\n",
       "      <th></th>\n",
       "      <th>PRICE</th>\n",
       "      <th>CITY_ENCODED</th>\n",
       "    </tr>\n",
       "  </thead>\n",
       "  <tbody>\n",
       "    <tr>\n",
       "      <th>0</th>\n",
       "      <td>100</td>\n",
       "      <td>450.0</td>\n",
       "    </tr>\n",
       "    <tr>\n",
       "      <th>1</th>\n",
       "      <td>200</td>\n",
       "      <td>200.0</td>\n",
       "    </tr>\n",
       "    <tr>\n",
       "      <th>2</th>\n",
       "      <td>300</td>\n",
       "      <td>600.0</td>\n",
       "    </tr>\n",
       "    <tr>\n",
       "      <th>3</th>\n",
       "      <td>400</td>\n",
       "      <td>700.0</td>\n",
       "    </tr>\n",
       "    <tr>\n",
       "      <th>4</th>\n",
       "      <td>500</td>\n",
       "      <td>500.0</td>\n",
       "    </tr>\n",
       "    <tr>\n",
       "      <th>5</th>\n",
       "      <td>600</td>\n",
       "      <td>600.0</td>\n",
       "    </tr>\n",
       "    <tr>\n",
       "      <th>6</th>\n",
       "      <td>700</td>\n",
       "      <td>700.0</td>\n",
       "    </tr>\n",
       "    <tr>\n",
       "      <th>7</th>\n",
       "      <td>800</td>\n",
       "      <td>450.0</td>\n",
       "    </tr>\n",
       "    <tr>\n",
       "      <th>8</th>\n",
       "      <td>900</td>\n",
       "      <td>600.0</td>\n",
       "    </tr>\n",
       "    <tr>\n",
       "      <th>9</th>\n",
       "      <td>1000</td>\n",
       "      <td>700.0</td>\n",
       "    </tr>\n",
       "  </tbody>\n",
       "</table>\n",
       "</div>"
      ],
      "text/plain": [
       "   PRICE  CITY_ENCODED\n",
       "0    100         450.0\n",
       "1    200         200.0\n",
       "2    300         600.0\n",
       "3    400         700.0\n",
       "4    500         500.0\n",
       "5    600         600.0\n",
       "6    700         700.0\n",
       "7    800         450.0\n",
       "8    900         600.0\n",
       "9   1000         700.0"
      ]
     },
     "execution_count": 20,
     "metadata": {},
     "output_type": "execute_result"
    }
   ],
   "source": [
    "city_price_data[[\"PRICE\",\"CITY_ENCODED\"]]"
   ]
  },
  {
   "cell_type": "code",
   "execution_count": null,
   "id": "9a688c86",
   "metadata": {},
   "outputs": [],
   "source": []
  }
 ],
 "metadata": {
  "kernelspec": {
   "display_name": "ai-venv",
   "language": "python",
   "name": "python3"
  },
  "language_info": {
   "codemirror_mode": {
    "name": "ipython",
    "version": 3
   },
   "file_extension": ".py",
   "mimetype": "text/x-python",
   "name": "python",
   "nbconvert_exporter": "python",
   "pygments_lexer": "ipython3",
   "version": "3.11.13"
  }
 },
 "nbformat": 4,
 "nbformat_minor": 5
}
