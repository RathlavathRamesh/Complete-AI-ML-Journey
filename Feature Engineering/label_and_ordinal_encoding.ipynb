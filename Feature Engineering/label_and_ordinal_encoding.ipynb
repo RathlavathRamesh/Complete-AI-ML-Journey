{
 "cells": [
  {
   "cell_type": "markdown",
   "id": "c83b9dbe",
   "metadata": {},
   "source": [
    "# Lable Encoding involves converting each value of a categorical column into a unique integer. For example, if a column has three categories: \"red\", \"blue\", and \"green\", label encoding would convert these to 0, 1, and 2 respectively."
   ]
  },
  {
   "cell_type": "code",
   "execution_count": 23,
   "id": "b3945c34",
   "metadata": {},
   "outputs": [],
   "source": [
    "from sklearn.preprocessing import LabelEncoder\n",
    "import pandas as pd \n"
   ]
  },
  {
   "cell_type": "code",
   "execution_count": 24,
   "id": "7a5c6bf8",
   "metadata": {},
   "outputs": [],
   "source": [
    "df=pd.DataFrame({\n",
    "    \"color\":[\"red\",\"blue\",\"green\",\"green\",\"red\",\"blue\",\"green\",\"red\"]\n",
    "})\n"
   ]
  },
  {
   "cell_type": "code",
   "execution_count": 25,
   "id": "0e8cd79e",
   "metadata": {},
   "outputs": [],
   "source": [
    "encoder=LabelEncoder()"
   ]
  },
  {
   "cell_type": "code",
   "execution_count": 26,
   "id": "07927e4e",
   "metadata": {},
   "outputs": [
    {
     "name": "stderr",
     "output_type": "stream",
     "text": [
      "/opt/anaconda3/envs/ai-venv/lib/python3.11/site-packages/sklearn/preprocessing/_label.py:110: DataConversionWarning: A column-vector y was passed when a 1d array was expected. Please change the shape of y to (n_samples, ), for example using ravel().\n",
      "  y = column_or_1d(y, warn=True)\n"
     ]
    },
    {
     "data": {
      "text/plain": [
       "array([2, 0, 1, 1, 2, 0, 1, 2])"
      ]
     },
     "execution_count": 26,
     "metadata": {},
     "output_type": "execute_result"
    }
   ],
   "source": [
    "label_Encoder=encoder.fit_transform(df[[\"color\"]])\n",
    "label_Encoder"
   ]
  },
  {
   "cell_type": "code",
   "execution_count": 22,
   "id": "3dae69b3",
   "metadata": {},
   "outputs": [
    {
     "ename": "AttributeError",
     "evalue": "'numpy.ndarray' object has no attribute 'transform'",
     "output_type": "error",
     "traceback": [
      "\u001b[31m---------------------------------------------------------------------------\u001b[39m",
      "\u001b[31mAttributeError\u001b[39m                            Traceback (most recent call last)",
      "\u001b[36mCell\u001b[39m\u001b[36m \u001b[39m\u001b[32mIn[22]\u001b[39m\u001b[32m, line 1\u001b[39m\n\u001b[32m----> \u001b[39m\u001b[32m1\u001b[39m \u001b[43mlabel_Encoder\u001b[49m\u001b[43m.\u001b[49m\u001b[43mtransform\u001b[49m([[\u001b[33m\"\u001b[39m\u001b[33mred\u001b[39m\u001b[33m\"\u001b[39m]])\n",
      "\u001b[31mAttributeError\u001b[39m: 'numpy.ndarray' object has no attribute 'transform'"
     ]
    }
   ],
   "source": [
    "label_Encoder.transform([[\"red\"]])\n"
   ]
  },
  {
   "cell_type": "markdown",
   "id": "8e588e9e",
   "metadata": {},
   "source": [
    "# ORDINAL ENCODING "
   ]
  },
  {
   "cell_type": "markdown",
   "id": "5a6245f5",
   "metadata": {},
   "source": [
    "# The Problem with the Lablel Encoding is that it can mislead machine learning algorithms into interpreting the encoded values as having a mathematical relationship, which may not be accurate for categorical data. For instance, in the previous example, the algorithm might assume that \"blue\" (1) is somehow \"greater than\" \"red\" (0) and \"green\" (2) is \"greater than\" both, which is not the case for nominal categories. This can lead to incorrect model assumptions and potentially poor performance.\n",
    "# Ordinal Encoding is a technique used to convert categorical variables into numerical format, where the categories have a meaningful order or ranking. In ordinal encoding, each category is assigned a unique integer value based on its order or rank. For example, if a column has three categories: \"low\", \"medium\", and \"high\", ordinal encoding would convert these to 0, 1, and 2 respectively, reflecting their inherent order."
   ]
  },
  {
   "cell_type": "code",
   "execution_count": 28,
   "id": "9122355f",
   "metadata": {},
   "outputs": [],
   "source": [
    "from sklearn.preprocessing import OrdinalEncoder"
   ]
  },
  {
   "cell_type": "code",
   "execution_count": 30,
   "id": "b5e21144",
   "metadata": {},
   "outputs": [
    {
     "data": {
      "text/plain": [
       "array([[0.],\n",
       "       [1.],\n",
       "       [2.],\n",
       "       [1.],\n",
       "       [0.],\n",
       "       [2.],\n",
       "       [2.],\n",
       "       [0.]])"
      ]
     },
     "execution_count": 30,
     "metadata": {},
     "output_type": "execute_result"
    }
   ],
   "source": [
    "df=pd.DataFrame({\n",
    "    \"size\":[\"small\",\"medium\",\"large\",\"medium\",\"small\",\"large\",\"large\",\"small\"]\n",
    "})\n",
    "\n",
    "ordinal_Encoder=OrdinalEncoder(categories=[[\"small\",\"medium\",\"large\"]])\n",
    "ordinal_Encoder.fit_transform(df[[\"size\"]])"
   ]
  },
  {
   "cell_type": "code",
   "execution_count": 31,
   "id": "4a51ff47",
   "metadata": {},
   "outputs": [
    {
     "name": "stderr",
     "output_type": "stream",
     "text": [
      "/opt/anaconda3/envs/ai-venv/lib/python3.11/site-packages/sklearn/utils/validation.py:2749: UserWarning: X does not have valid feature names, but OrdinalEncoder was fitted with feature names\n",
      "  warnings.warn(\n"
     ]
    },
    {
     "data": {
      "text/plain": [
       "array([[1.]])"
      ]
     },
     "execution_count": 31,
     "metadata": {},
     "output_type": "execute_result"
    }
   ],
   "source": [
    "ordinal_Encoder.transform([[\"medium\"]])"
   ]
  },
  {
   "cell_type": "code",
   "execution_count": null,
   "id": "34b08ea1",
   "metadata": {},
   "outputs": [],
   "source": []
  }
 ],
 "metadata": {
  "kernelspec": {
   "display_name": "ai-venv",
   "language": "python",
   "name": "python3"
  },
  "language_info": {
   "codemirror_mode": {
    "name": "ipython",
    "version": 3
   },
   "file_extension": ".py",
   "mimetype": "text/x-python",
   "name": "python",
   "nbconvert_exporter": "python",
   "pygments_lexer": "ipython3",
   "version": "3.11.13"
  }
 },
 "nbformat": 4,
 "nbformat_minor": 5
}
